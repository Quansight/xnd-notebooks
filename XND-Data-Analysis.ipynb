{
 "cells": [
  {
   "cell_type": "markdown",
   "metadata": {},
   "source": [
    "# Applying XND on your data analysis workflow\n",
    "\n",
    "This document show some ways to apply **XND** on a data analysis workflow.\n",
    "\n",
    "Basically, a data analysis workflow has 5 main task groups:\n",
    "\n",
    "- domain acknolodge\n",
    "- data storage\n",
    "- data cleaning\n",
    "- data processing\n",
    "- data visualization\n",
    "\n",
    "This document focus on the last 3 task groups: data cleaning, processing and visualization.\n",
    "\n",
    "Some examples will be discussed using **xnd** with **gumath** integrated with other libraries"
   ]
  },
  {
   "cell_type": "markdown",
   "metadata": {},
   "source": [
    "## Setup\n",
    "\n",
    "First we need to import some libraries"
   ]
  },
  {
   "cell_type": "code",
   "execution_count": 1,
   "metadata": {},
   "outputs": [],
   "source": [
    "import sys"
   ]
  },
  {
   "cell_type": "code",
   "execution_count": 2,
   "metadata": {},
   "outputs": [],
   "source": [
    "from importnb import Notebook\n",
    "from IPython.display import display\n",
    "import random \n",
    "from xnd import xnd"
   ]
  },
  {
   "cell_type": "code",
   "execution_count": 3,
   "metadata": {},
   "outputs": [],
   "source": [
    "xnd_gumath = Notebook.load('utils/math_utils.ipynb', main=True).xnd_gumath"
   ]
  },
  {
   "cell_type": "markdown",
   "metadata": {},
   "source": [
    "## Data Process"
   ]
  },
  {
   "cell_type": "markdown",
   "metadata": {},
   "source": [
    "The data processing tasks aim to work on raw/cleaning data and get information from that. *Digital Signal Processing*, *Machine Learning*, *Math*, *Statistics*, *Scientific Computing*, etc are some possible approaches that someone want to work with data. This document shows some operations with: *Math*"
   ]
  },
  {
   "cell_type": "markdown",
   "metadata": {},
   "source": [
    "### Math operations"
   ]
  },
  {
   "cell_type": "markdown",
   "metadata": {},
   "source": [
    "XND math operations could be done using *gumath*. The follow examples use a class that combine *xnd* and *gumath* libraries (@ [xnd_gumath](utils/math_utils.ipynb)). **libgumath** is an C library that supports a general dispatch mechanism for **xnd** containers as well as a composable, generalized function concept."
   ]
  },
  {
   "cell_type": "markdown",
   "metadata": {},
   "source": [
    "**Binary operations:**"
   ]
  },
  {
   "cell_type": "code",
   "execution_count": 4,
   "metadata": {},
   "outputs": [
    {
     "data": {
      "text/plain": [
       "xnd([5, 7, 9], type='3 * int64')"
      ]
     },
     "execution_count": 4,
     "metadata": {},
     "output_type": "execute_result"
    }
   ],
   "source": [
    "# using arrays from a dictionary\n",
    "v = xnd_gumath({'x': [1, 2, 3], 'y': [4, 5, 6]})\n",
    "# add\n",
    "v['x'] + v['y']"
   ]
  },
  {
   "cell_type": "code",
   "execution_count": 5,
   "metadata": {},
   "outputs": [
    {
     "data": {
      "text/plain": [
       "xnd([-3, -3, -3], type='3 * int64')"
      ]
     },
     "execution_count": 5,
     "metadata": {},
     "output_type": "execute_result"
    }
   ],
   "source": [
    "# assign from dictionary\n",
    "x = v['x']\n",
    "y = v['y']\n",
    "# subtract\n",
    "x - y"
   ]
  },
  {
   "cell_type": "code",
   "execution_count": 6,
   "metadata": {},
   "outputs": [
    {
     "data": {
      "text/plain": [
       "xnd([4, 10, 18], type='3 * int64')"
      ]
     },
     "execution_count": 6,
     "metadata": {},
     "output_type": "execute_result"
    }
   ],
   "source": [
    "# multiplication\n",
    "x * y"
   ]
  },
  {
   "cell_type": "code",
   "execution_count": 7,
   "metadata": {},
   "outputs": [
    {
     "data": {
      "text/plain": [
       "xnd(5, type='int32')"
      ]
     },
     "execution_count": 7,
     "metadata": {},
     "output_type": "execute_result"
    }
   ],
   "source": [
    "# division\n",
    "xnd_gumath(10, type='int32') / 2"
   ]
  },
  {
   "cell_type": "code",
   "execution_count": 8,
   "metadata": {},
   "outputs": [
    {
     "data": {
      "text/plain": [
       "xnd(2, type='int32')"
      ]
     },
     "execution_count": 8,
     "metadata": {},
     "output_type": "execute_result"
    }
   ],
   "source": [
    "# or\n",
    "20 / xnd_gumath(10, type='int32')"
   ]
  },
  {
   "cell_type": "code",
   "execution_count": 9,
   "metadata": {},
   "outputs": [
    {
     "data": {
      "text/plain": [
       "(xnd(0.8414709848078965, type='float64'),\n",
       " xnd(0.5403023058681398, type='float64'))"
      ]
     },
     "execution_count": 9,
     "metadata": {},
     "output_type": "execute_result"
    }
   ],
   "source": [
    "x = xnd_gumath(1.0)\n",
    "x.sin(), x.cos()"
   ]
  },
  {
   "cell_type": "markdown",
   "metadata": {},
   "source": [
    "### Processing using SciPy"
   ]
  },
  {
   "cell_type": "markdown",
   "metadata": {},
   "source": [
    "*SciPy* (pronounced “Sigh Pie”) is a Python-based ecosystem of open-source software for mathematics, science, and engineering ([www.scipy.org](https://www.scipy.org/)). \n",
    "\n",
    "This section shows examples using some methods from **SciPy** library."
   ]
  },
  {
   "cell_type": "code",
   "execution_count": 10,
   "metadata": {},
   "outputs": [],
   "source": [
    "import scipy"
   ]
  },
  {
   "cell_type": "code",
   "execution_count": 11,
   "metadata": {},
   "outputs": [
    {
     "data": {
      "text/plain": [
       "(ndt(\"100 * float64\"), ndt(\"100 * float64\"))"
      ]
     },
     "execution_count": 11,
     "metadata": {},
     "output_type": "execute_result"
    }
   ],
   "source": [
    "x = xnd([random.uniform(0, 100) for x in range(100)])\n",
    "y = xnd([random.uniform(0, 100) for x in range(100)])\n",
    "\n",
    "x.type, y.type"
   ]
  },
  {
   "cell_type": "code",
   "execution_count": 12,
   "metadata": {},
   "outputs": [
    {
     "data": {
      "text/plain": [
       "230931.5421682946"
      ]
     },
     "execution_count": 12,
     "metadata": {},
     "output_type": "execute_result"
    }
   ],
   "source": [
    "scipy.dot(x, y)"
   ]
  },
  {
   "cell_type": "markdown",
   "metadata": {},
   "source": [
    "**Statstics functions** "
   ]
  },
  {
   "cell_type": "markdown",
   "metadata": {},
   "source": [
    "SciPy could be used to process some statistical functions on **xnd** arrays:"
   ]
  },
  {
   "cell_type": "code",
   "execution_count": 13,
   "metadata": {},
   "outputs": [
    {
     "name": "stdout",
     "output_type": "stream",
     "text": [
      "Mean of x = 51.10352114212457\n"
     ]
    }
   ],
   "source": [
    "print('Mean of x =', scipy.mean(x))"
   ]
  },
  {
   "cell_type": "code",
   "execution_count": 14,
   "metadata": {},
   "outputs": [
    {
     "name": "stdout",
     "output_type": "stream",
     "text": [
      "Median of y = 42.117034694883316\n"
     ]
    }
   ],
   "source": [
    "print('Median of y =', scipy.median(y))"
   ]
  },
  {
   "cell_type": "code",
   "execution_count": 15,
   "metadata": {},
   "outputs": [
    {
     "name": "stdout",
     "output_type": "stream",
     "text": [
      "Standard Deviation of x = 27.69640514378039\n"
     ]
    }
   ],
   "source": [
    "print('Standard Deviation of x =', scipy.std(x))"
   ]
  },
  {
   "cell_type": "code",
   "execution_count": 16,
   "metadata": {},
   "outputs": [
    {
     "name": "stdout",
     "output_type": "stream",
     "text": [
      "Variance of y = 869.348316652364\n"
     ]
    }
   ],
   "source": [
    "print('Variance of y =', scipy.var(y))"
   ]
  },
  {
   "cell_type": "markdown",
   "metadata": {},
   "source": [
    "**Signal Processing functions**"
   ]
  },
  {
   "cell_type": "code",
   "execution_count": 17,
   "metadata": {},
   "outputs": [],
   "source": [
    "import matplotlib as mpl\n",
    "import matplotlib.pyplot as plt\n",
    "from scipy.signal import savgol_filter"
   ]
  },
  {
   "cell_type": "code",
   "execution_count": 18,
   "metadata": {},
   "outputs": [
    {
     "data": {
      "image/png": "[encoded data removed]",
      "text/plain": [
       "<Figure size 432x288 with 1 Axes>"
      ]
     },
     "metadata": {},
     "output_type": "display_data"
    }
   ],
   "source": [
    "n_samples = 700\n",
    "\n",
    "raw_data = xnd_gumath([v/100.0 for v in range(n_samples)]).sin()\n",
    "raw_data += xnd_gumath([random.uniform(0, 1) for x in range(n_samples)]) \n",
    "\n",
    "plt.plot(raw_data)\n",
    "plt.show()"
   ]
  },
  {
   "cell_type": "code",
   "execution_count": 19,
   "metadata": {},
   "outputs": [
    {
     "name": "stderr",
     "output_type": "stream",
     "text": [
      "/mnt/sda1/storage/miniconda/envs/xnd-notebooks/lib/python3.6/site-packages/scipy/signal/_arraytools.py:45: FutureWarning: Using a non-tuple sequence for multidimensional indexing is deprecated; use `arr[tuple(seq)]` instead of `arr[seq]`. In the future this will be interpreted as an array index, `arr[np.array(seq)]`, which will result either in an error or a different result.\n",
      "  b = a[a_slice]\n"
     ]
    },
    {
     "data": {
      "image/png": "[encoded data removed]",
      "text/plain": [
       "<Figure size 432x288 with 1 Axes>"
      ]
     },
     "metadata": {},
     "output_type": "display_data"
    }
   ],
   "source": [
    "filtered_data = savgol_filter(raw_data, window_length=n_samples//3, polyorder=2)\n",
    "\n",
    "plt.plot(filtered_data)\n",
    "plt.show()"
   ]
  },
  {
   "cell_type": "markdown",
   "metadata": {},
   "source": [
    "### Processing using scikit-learn"
   ]
  },
  {
   "cell_type": "markdown",
   "metadata": {},
   "source": [
    "**scikit-learn** is a Python module for machine learning built on top of SciPy ([github.com/scikit-learn/scikit-learn](https://github.com/scikit-learn/scikit-learn)).\n",
    "\n",
    "The follow example shows PCA working with **xnd** array."
   ]
  },
  {
   "cell_type": "code",
   "execution_count": 20,
   "metadata": {},
   "outputs": [
    {
     "name": "stderr",
     "output_type": "stream",
     "text": [
      "/mnt/sda1/storage/miniconda/envs/xnd-notebooks/lib/python3.6/importlib/_bootstrap.py:219: RuntimeWarning: numpy.dtype size changed, may indicate binary incompatibility. Expected 96, got 88\n",
      "  return f(*args, **kwds)\n",
      "/mnt/sda1/storage/miniconda/envs/xnd-notebooks/lib/python3.6/importlib/_bootstrap.py:219: RuntimeWarning: numpy.dtype size changed, may indicate binary incompatibility. Expected 96, got 88\n",
      "  return f(*args, **kwds)\n"
     ]
    }
   ],
   "source": [
    "# http://scikit-learn.org/stable/modules/generated/sklearn.decomposition.PCA.html\n",
    "from sklearn.decomposition import PCA"
   ]
  },
  {
   "cell_type": "code",
   "execution_count": 21,
   "metadata": {},
   "outputs": [
    {
     "name": "stdout",
     "output_type": "stream",
     "text": [
      "explained_variance_ratio: [0.99244289 0.00755711]\n",
      "singular_values: [6.30061232 0.54980396]\n"
     ]
    }
   ],
   "source": [
    "X = xnd([[-1, -1], [-2, -1], [-3, -2], [1, 1], [2, 1], [3, 2]])\n",
    "\n",
    "pca = PCA(n_components=2)\n",
    "pca.fit(X)\n",
    "\n",
    "print('explained_variance_ratio:', pca.explained_variance_ratio_)  \n",
    "print('singular_values:', pca.singular_values_)  "
   ]
  },
  {
   "cell_type": "markdown",
   "metadata": {},
   "source": [
    "## Data Visualization"
   ]
  },
  {
   "cell_type": "markdown",
   "metadata": {},
   "source": [
    "Communication is a very important task on a data analysis workflow. \n",
    "\n",
    "This section shows **XND** working with **matplotlib**."
   ]
  },
  {
   "cell_type": "markdown",
   "metadata": {},
   "source": [
    "### Plotting with matplotlib"
   ]
  },
  {
   "cell_type": "code",
   "execution_count": 22,
   "metadata": {},
   "outputs": [],
   "source": [
    "import matplotlib as mpl\n",
    "import matplotlib.pyplot as plt"
   ]
  },
  {
   "cell_type": "code",
   "execution_count": 23,
   "metadata": {},
   "outputs": [],
   "source": [
    "x = xnd_gumath([v/100.0 for v in range(1000)])"
   ]
  },
  {
   "cell_type": "code",
   "execution_count": 24,
   "metadata": {},
   "outputs": [
    {
     "data": {
      "image/png": "[encoded data removed]",
      "text/plain": [
       "<Figure size 432x288 with 1 Axes>"
      ]
     },
     "metadata": {},
     "output_type": "display_data"
    }
   ],
   "source": [
    "plt.plot(x.sin())\n",
    "plt.show()"
   ]
  },
  {
   "cell_type": "code",
   "execution_count": 25,
   "metadata": {},
   "outputs": [
    {
     "data": {
      "application/json": {
       "Software versions": [
        {
         "module": "Python",
         "version": "3.6.6 64bit [GCC 4.8.2 20140120 (Red Hat 4.8.2-15)]"
        },
        {
         "module": "IPython",
         "version": "6.5.0"
        },
        {
         "module": "OS",
         "version": "Linux 4.15.0 29 generic x86_64 with debian buster sid"
        },
        {
         "module": "matplotlib",
         "version": "2.2.3"
        },
        {
         "module": "xnd",
         "version": "0.2.0.dev3"
        },
        {
         "module": "gumath",
         "version": "0.2.0.dev3"
        },
        {
         "module": "scipy",
         "version": "1.1.0"
        }
       ]
      },
      "text/html": [
       "<table><tr><th>Software</th><th>Version</th></tr><tr><td>Python</td><td>3.6.6 64bit [GCC 4.8.2 20140120 (Red Hat 4.8.2-15)]</td></tr><tr><td>IPython</td><td>6.5.0</td></tr><tr><td>OS</td><td>Linux 4.15.0 29 generic x86_64 with debian buster sid</td></tr><tr><td>matplotlib</td><td>2.2.3</td></tr><tr><td>xnd</td><td>0.2.0.dev3</td></tr><tr><td>gumath</td><td>0.2.0.dev3</td></tr><tr><td>scipy</td><td>1.1.0</td></tr><tr><td colspan='2'>Fri Aug 17 16:46:05 2018 -04</td></tr></table>"
      ],
      "text/latex": [
       "\\begin{tabular}{|l|l|}\\hline\n",
       "{\\bf Software} & {\\bf Version} \\\\ \\hline\\hline\n",
       "Python & 3.6.6 64bit [GCC 4.8.2 20140120 (Red Hat 4.8.2-15)] \\\\ \\hline\n",
       "IPython & 6.5.0 \\\\ \\hline\n",
       "OS & Linux 4.15.0 29 generic x86\\_64 with debian buster sid \\\\ \\hline\n",
       "matplotlib & 2.2.3 \\\\ \\hline\n",
       "xnd & 0.2.0.dev3 \\\\ \\hline\n",
       "gumath & 0.2.0.dev3 \\\\ \\hline\n",
       "scipy & 1.1.0 \\\\ \\hline\n",
       "\\hline \\multicolumn{2}{|l|}{Fri Aug 17 16:46:05 2018 -04} \\\\ \\hline\n",
       "\\end{tabular}\n"
      ],
      "text/plain": [
       "Software versions\n",
       "Python 3.6.6 64bit [GCC 4.8.2 20140120 (Red Hat 4.8.2-15)]\n",
       "IPython 6.5.0\n",
       "OS Linux 4.15.0 29 generic x86_64 with debian buster sid\n",
       "matplotlib 2.2.3\n",
       "xnd 0.2.0.dev3\n",
       "gumath 0.2.0.dev3\n",
       "scipy 1.1.0\n",
       "Fri Aug 17 16:46:05 2018 -04"
      ]
     },
     "execution_count": 25,
     "metadata": {},
     "output_type": "execute_result"
    }
   ],
   "source": [
    "# Install version_information if not installed\n",
    "#!pip install version_information\n",
    "%load_ext version_information\n",
    "%version_information matplotlib, xnd, gumath, scipy"
   ]
  }
 ],
 "metadata": {
  "kernelspec": {
   "display_name": "Python 3",
   "language": "python",
   "name": "python3"
  },
  "language_info": {
   "codemirror_mode": {
    "name": "ipython",
    "version": 3
   },
   "file_extension": ".py",
   "mimetype": "text/x-python",
   "name": "python",
   "nbconvert_exporter": "python",
   "pygments_lexer": "ipython3",
   "version": "3.6.6"
  }
 },
 "nbformat": 4,
 "nbformat_minor": 2
}
