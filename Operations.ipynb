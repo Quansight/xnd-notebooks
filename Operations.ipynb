{
 "cells": [
  {
   "cell_type": "markdown",
   "metadata": {},
   "source": [
    "# Operations\n",
    "\n",
    "Examples using `xnd` with `gumath` integrated with other libraries"
   ]
  },
  {
   "cell_type": "markdown",
   "metadata": {},
   "source": [
    "## Setup\n",
    "\n",
    "First we need to import the some libraries"
   ]
  },
  {
   "cell_type": "code",
   "execution_count": 1,
   "metadata": {},
   "outputs": [],
   "source": [
    "import json\n",
    "\n",
    "from gumath import functions as fn\n",
    "\n",
    "from importnb import Notebook\n",
    "\n",
    "from IPython.display import display\n",
    "\n",
    "import matplotlib as mpl\n",
    "import matplotlib.pyplot as plt\n",
    "import networkx as nx\n",
    "\n",
    "from xnd import xnd"
   ]
  },
  {
   "cell_type": "code",
   "execution_count": 2,
   "metadata": {},
   "outputs": [
    {
     "ename": "NameError",
     "evalue": "name 'xnd' is not defined",
     "output_type": "error",
     "traceback": [
      "\u001b[0;31m---------------------------------------------------------------------------\u001b[0m",
      "\u001b[0;31mNameError\u001b[0m                                 Traceback (most recent call last)",
      "\u001b[0;32m<ipython-input-2-85f94b308e17>\u001b[0m in \u001b[0;36m<module>\u001b[0;34m()\u001b[0m\n\u001b[1;32m      1\u001b[0m \u001b[0;32mwith\u001b[0m \u001b[0mNotebook\u001b[0m\u001b[0;34m(\u001b[0m\u001b[0;34m)\u001b[0m\u001b[0;34m:\u001b[0m\u001b[0;34m\u001b[0m\u001b[0m\n\u001b[0;32m----> 2\u001b[0;31m     \u001b[0;32mfrom\u001b[0m \u001b[0mutils\u001b[0m \u001b[0;32mimport\u001b[0m \u001b[0mxnd_gumath\u001b[0m\u001b[0;34m\u001b[0m\u001b[0m\n\u001b[0m",
      "\u001b[0;32m~/miniconda3/envs/xnd-notebooks/lib/python3.6/importlib/_bootstrap.py\u001b[0m in \u001b[0;36m_find_and_load\u001b[0;34m(name, import_)\u001b[0m\n",
      "\u001b[0;32m~/miniconda3/envs/xnd-notebooks/lib/python3.6/importlib/_bootstrap.py\u001b[0m in \u001b[0;36m_find_and_load_unlocked\u001b[0;34m(name, import_)\u001b[0m\n",
      "\u001b[0;32m~/miniconda3/envs/xnd-notebooks/lib/python3.6/importlib/_bootstrap.py\u001b[0m in \u001b[0;36m_load_unlocked\u001b[0;34m(spec)\u001b[0m\n",
      "\u001b[0;32m~/miniconda3/envs/xnd-notebooks/lib/python3.6/site-packages/importnb/loader.py\u001b[0m in \u001b[0;36m_exec_module\u001b[0;34m(loader, module, **globals)\u001b[0m\n\u001b[1;32m    279\u001b[0m             \u001b[0mmodule\u001b[0m\u001b[0;34m.\u001b[0m\u001b[0m_capture\u001b[0m \u001b[0;34m=\u001b[0m \u001b[0mout\u001b[0m\u001b[0;34m\u001b[0m\u001b[0m\n\u001b[1;32m    280\u001b[0m             \u001b[0;32mtry\u001b[0m\u001b[0;34m:\u001b[0m\u001b[0;34m\u001b[0m\u001b[0m\n\u001b[0;32m--> 281\u001b[0;31m                 \u001b[0mexec_module\u001b[0m\u001b[0;34m(\u001b[0m\u001b[0mloader\u001b[0m\u001b[0;34m,\u001b[0m \u001b[0mmodule\u001b[0m\u001b[0;34m)\u001b[0m\u001b[0;34m\u001b[0m\u001b[0m\n\u001b[0m\u001b[1;32m    282\u001b[0m             \u001b[0;32mexcept\u001b[0m \u001b[0mloader\u001b[0m\u001b[0;34m.\u001b[0m\u001b[0mexceptions\u001b[0m \u001b[0;32mas\u001b[0m \u001b[0mException\u001b[0m\u001b[0;34m:\u001b[0m\u001b[0;34m\u001b[0m\u001b[0m\n\u001b[1;32m    283\u001b[0m                 \u001b[0mmodule\u001b[0m\u001b[0;34m.\u001b[0m\u001b[0m_exception\u001b[0m \u001b[0;34m=\u001b[0m \u001b[0mException\u001b[0m\u001b[0;34m\u001b[0m\u001b[0m\n",
      "\u001b[0;32m/mnt/sda1/dev/quansight/xnd-notebooks/utils.ipynb\u001b[0m in \u001b[0;36m<module>\u001b[0;34m()\u001b[0m\n\u001b[1;32m    551\u001b[0m    ],\n\u001b[1;32m    552\u001b[0m    \"source\": [\n\u001b[0;32m--> 553\u001b[0;31m     \u001b[0;34m\"class xnd_gumath(xnd):\\n\"\u001b[0m\u001b[0;34m,\u001b[0m\u001b[0;34m\u001b[0m\u001b[0m\n\u001b[0m\u001b[1;32m    554\u001b[0m     \u001b[0;34m\"    def __new__(cls, *args, **kwargs):\\n\"\u001b[0m\u001b[0;34m,\u001b[0m\u001b[0;34m\u001b[0m\u001b[0m\n\u001b[1;32m    555\u001b[0m     \u001b[0;34m\"        ops = {'add': 'add', 'sub': 'subtrac', 'mul': 'multiply'}\\n\"\u001b[0m\u001b[0;34m,\u001b[0m\u001b[0;34m\u001b[0m\u001b[0m\n",
      "\u001b[0;31mNameError\u001b[0m: name 'xnd' is not defined"
     ]
    }
   ],
   "source": [
    "with Notebook(): \n",
    "    from utils import xnd_gumath"
   ]
  },
  {
   "cell_type": "code",
   "execution_count": null,
   "metadata": {},
   "outputs": [],
   "source": [
    "x = xnd({'a': [0, 1, 2], 'b': [4, 5, 6]})"
   ]
  },
  {
   "cell_type": "code",
   "execution_count": null,
   "metadata": {},
   "outputs": [],
   "source": [
    "x['a'] + x['b']"
   ]
  },
  {
   "cell_type": "code",
   "execution_count": null,
   "metadata": {},
   "outputs": [],
   "source": [
    "from gumath import functions as fn"
   ]
  },
  {
   "cell_type": "code",
   "execution_count": null,
   "metadata": {},
   "outputs": [],
   "source": [
    "x = xnd([[1, 2, 3], [4, 5, 6]], dtype='int64')\n",
    "fn.add(x, x)"
   ]
  },
  {
   "cell_type": "code",
   "execution_count": null,
   "metadata": {},
   "outputs": [],
   "source": [
    "x = xnd([[1, 2, 3], [4, 5, 6]], dtype='int64')\n",
    "plt.plot(x)\n",
    "plt.show()"
   ]
  },
  {
   "cell_type": "code",
   "execution_count": null,
   "metadata": {},
   "outputs": [],
   "source": [
    "class xnd_gumath(xnd):\n",
    "    def __new__(cls, *args, **kwargs):\n",
    "        ops = {'add': 'add', 'sub': 'subtrac', 'mul': 'multiply'}\n",
    "        \n",
    "        map_types = {\n",
    "            'int': 'int32',\n",
    "            'float': 'float32'\n",
    "        }\n",
    "        \n",
    "        def gen_fn(op):\n",
    "            def _target(*args):\n",
    "                l_args = list(args)\n",
    "                for i, v in enumerate(args):\n",
    "                    if not isinstance(v, xnd):\n",
    "                        _type = type(v)\n",
    "                        _type_name = (\n",
    "                            _type.__name__ if _type.__name__ not in map_types else\n",
    "                            map_types[_type.__name__]\n",
    "                        )\n",
    "                        l_args[i] = xnd(v, type=_type_name)\n",
    "                \n",
    "                if any([not v.type.isscalar() for v in l_args]):\n",
    "                    for i, v in enumerate(l_args):\n",
    "                        if v.type.isscalar():\n",
    "                            _type = '1 * {}'.format(str(v.type))\n",
    "                            l_args[i] = xnd_gumath([v.value], type=_type)\n",
    "                    \n",
    "                return getattr(fn, op)(*tuple(l_args))\n",
    "            return _target\n",
    "        \n",
    "        for py_op, gumath_op in ops.items():\n",
    "            setattr(cls, '__{}__'.format(py_op), gen_fn(gumath_op))\n",
    "            \n",
    "        for op in fn.__dir__():\n",
    "            if op.startswith('__'):\n",
    "                continue\n",
    "            setattr(cls, op, gen_fn(op))\n",
    "        \n",
    "        return super().__new__(cls, *args, **kwargs)\n",
    "\n",
    "x = xnd_gumath([1, 2, 3], type='3 * int32')\n",
    "\n",
    "x * 5 + x.log()"
   ]
  }
 ],
 "metadata": {
  "kernelspec": {
   "display_name": "Python 3",
   "language": "python",
   "name": "python3"
  },
  "language_info": {
   "codemirror_mode": {
    "name": "ipython",
    "version": 3
   },
   "file_extension": ".py",
   "mimetype": "text/x-python",
   "name": "python",
   "nbconvert_exporter": "python",
   "pygments_lexer": "ipython3",
   "version": "3.6.0"
  }
 },
 "nbformat": 4,
 "nbformat_minor": 2
}
