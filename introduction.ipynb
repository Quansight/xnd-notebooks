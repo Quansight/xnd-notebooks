{
 "cells": [
  {
   "cell_type": "markdown",
   "metadata": {},
   "source": [
    "<img src=\"https://xnd.io/xndlogo%20transparentbg.png\" align=\"center\" width=\"auto\">\n",
    "\n",
    "<h1 align=\"center\">What is xnd?</h1>\n",
    "\n",
    "xnd is a module that implements a container type for mapping all python values relevant for scientific computing directly to memory.\n",
    "xnd has a superset of features for typed memory found in similar libraries like numpy and apache arrow. "
   ]
  },
  {
   "cell_type": "code",
   "execution_count": 1,
   "metadata": {},
   "outputs": [],
   "source": [
    "from xnd import xnd\n",
    "import numpy as np\n",
    "import sys"
   ]
  },
  {
   "cell_type": "code",
   "execution_count": 2,
   "metadata": {},
   "outputs": [
    {
     "name": "stdout",
     "output_type": "stream",
     "text": [
      "Python 3.6.5 | packaged by conda-forge | (default, Apr  6 2018, 13:39:56) \n",
      "[GCC 4.8.2 20140120 (Red Hat 4.8.2-15)]\n"
     ]
    }
   ],
   "source": [
    "print('Python %s' % sys.version)"
   ]
  },
  {
   "cell_type": "markdown",
   "metadata": {},
   "source": [
    "# Xnd container creation routines"
   ]
  },
  {
   "cell_type": "markdown",
   "metadata": {},
   "source": [
    "## Creating xnd container from Python data types\n",
    "\n",
    "- xnd supports type inference. This allows the user to create xnd container from Python data types. "
   ]
  },
  {
   "cell_type": "code",
   "execution_count": 3,
   "metadata": {},
   "outputs": [
    {
     "data": {
      "text/plain": [
       "xnd([1, 2, 3, 4, 5], type='5 * int64')"
      ]
     },
     "execution_count": 3,
     "metadata": {},
     "output_type": "execute_result"
    }
   ],
   "source": [
    "xnd([1, 2, 3, 4, 5]) # xnd"
   ]
  },
  {
   "cell_type": "code",
   "execution_count": 4,
   "metadata": {},
   "outputs": [
    {
     "data": {
      "text/plain": [
       "array([1, 2, 3, 4, 5])"
      ]
     },
     "execution_count": 4,
     "metadata": {},
     "output_type": "execute_result"
    }
   ],
   "source": [
    "np.array([1, 2, 3, 4, 5])  # numpy "
   ]
  },
  {
   "cell_type": "code",
   "execution_count": 5,
   "metadata": {},
   "outputs": [
    {
     "data": {
      "text/plain": [
       "xnd([[1.0, 1.5], [-1.5, 1.0]], type='2 * 2 * float64')"
      ]
     },
     "execution_count": 5,
     "metadata": {},
     "output_type": "execute_result"
    }
   ],
   "source": [
    "xnd([[1., 1.5], [-1.5, 1.]]) # xnd"
   ]
  },
  {
   "cell_type": "code",
   "execution_count": 6,
   "metadata": {},
   "outputs": [
    {
     "data": {
      "text/plain": [
       "array([[ 1. ,  1.5],\n",
       "       [-1.5,  1. ]])"
      ]
     },
     "execution_count": 6,
     "metadata": {},
     "output_type": "execute_result"
    }
   ],
   "source": [
    "np.array([[1, 1.5], [-1.5, 1]]) # numpy "
   ]
  },
  {
   "cell_type": "markdown",
   "metadata": {},
   "source": [
    "\n",
    "You can see some differences with numpy at this level already, such as the array dimensionality being included in the type."
   ]
  },
  {
   "cell_type": "markdown",
   "metadata": {},
   "source": [
    "- The default string is variable-length in xnd. In numpy, you either choose a maximum size, or use object arrays with lower performance."
   ]
  },
  {
   "cell_type": "code",
   "execution_count": 7,
   "metadata": {},
   "outputs": [
    {
     "data": {
      "text/plain": [
       "xnd(['this', 'is', 'a', 'test', 'notebook'], type='5 * string')"
      ]
     },
     "execution_count": 7,
     "metadata": {},
     "output_type": "execute_result"
    }
   ],
   "source": [
    "xnd([\"this\", \"is\", \"a\", \"test\", \"notebook\"]) # xnd"
   ]
  },
  {
   "cell_type": "code",
   "execution_count": 8,
   "metadata": {},
   "outputs": [
    {
     "data": {
      "text/plain": [
       "array(['this', 'is', 'a', 'test', 'notebook'], dtype='<U8')"
      ]
     },
     "execution_count": 8,
     "metadata": {},
     "output_type": "execute_result"
    }
   ],
   "source": [
    "np.array([\"this\", \"is\", \"a\", \"test\", \"notebook\"]) # numpy"
   ]
  },
  {
   "cell_type": "markdown",
   "metadata": {},
   "source": [
    "- xnd has a variable-length dimension type, which supports ragged arrays. [Ragged arrays](https://en.wikipedia.org/wiki/Jagged_array) also known as jagged arrays are array of arrays which can be of different sizes and producing rows of jagged edges when visualized as output. In contrast, two dimensional arrays are always rectangular. If you give this kind of data to numpy, it uses arrays which are slower and the array programming functionality in the ragged dimension."
   ]
  },
  {
   "cell_type": "code",
   "execution_count": 9,
   "metadata": {},
   "outputs": [
    {
     "data": {
      "text/plain": [
       "xnd([[1, 5, 2], [1], [7, 9, 10, 20, 13]], type='var * var * int64')"
      ]
     },
     "execution_count": 9,
     "metadata": {},
     "output_type": "execute_result"
    }
   ],
   "source": [
    "xnd([[1,5,2], [1], [7,9,10,20,13]]) # xnd"
   ]
  },
  {
   "cell_type": "code",
   "execution_count": 10,
   "metadata": {},
   "outputs": [
    {
     "data": {
      "text/plain": [
       "array([list([1, 5, 2]), list([1]), list([7, 9, 10, 20, 13])], dtype=object)"
      ]
     },
     "execution_count": 10,
     "metadata": {},
     "output_type": "execute_result"
    }
   ],
   "source": [
    "np.array([[1,5,2], [1], [7,9,10,20,13]]) # numpy"
   ]
  },
  {
   "cell_type": "markdown",
   "metadata": {},
   "source": [
    "- Categorical Type"
   ]
  },
  {
   "cell_type": "code",
   "execution_count": 11,
   "metadata": {},
   "outputs": [
    {
     "data": {
      "text/plain": [
       "xnd(['red', 'orange', 'yellow', 'green', 'blue', 'indigo', 'violet', 'red', 'green'],\n",
       "    type='9 * categorical('red', 'orange', 'yellow', 'green', 'blue', 'indigo', 'violet')')"
      ]
     },
     "execution_count": 11,
     "metadata": {},
     "output_type": "execute_result"
    }
   ],
   "source": [
    "levels = ['red', 'orange', 'yellow', 'green', 'blue', 'indigo', 'violet']\n",
    "rainbow = xnd(['red', 'orange', 'yellow', 'green', 'blue', 'indigo', 'violet', 'red', 'green'], levels=levels)\n",
    "rainbow"
   ]
  },
  {
   "cell_type": "code",
   "execution_count": 12,
   "metadata": {},
   "outputs": [
    {
     "data": {
      "text/plain": [
       "ndt(\"9 * categorical('red', 'orange', 'yellow', 'green', 'blue', 'indigo', 'violet')\")"
      ]
     },
     "execution_count": 12,
     "metadata": {},
     "output_type": "execute_result"
    }
   ],
   "source": [
    "rainbow.type"
   ]
  },
  {
   "cell_type": "code",
   "execution_count": 13,
   "metadata": {},
   "outputs": [
    {
     "data": {
      "text/plain": [
       "['red',\n",
       " 'orange',\n",
       " 'yellow',\n",
       " 'green',\n",
       " 'blue',\n",
       " 'indigo',\n",
       " 'violet',\n",
       " 'red',\n",
       " 'green']"
      ]
     },
     "execution_count": 13,
     "metadata": {},
     "output_type": "execute_result"
    }
   ],
   "source": [
    "rainbow.value"
   ]
  },
  {
   "cell_type": "markdown",
   "metadata": {},
   "source": [
    "- Structs: xnd provides a convenient way to create arrays of structs.  "
   ]
  },
  {
   "cell_type": "code",
   "execution_count": 14,
   "metadata": {},
   "outputs": [
    {
     "data": {
      "text/plain": [
       "xnd([{'title': 'Introduction to Digital Signal Processing', 'speaker': 'Allen Downey', 'room': 10},\n",
       "     {'title': 'Making Art with Python', 'speaker': 'Emily Xie', 'room': 16},\n",
       "     {'title': 'Foundations of Numerical Computing in Python', 'speaker': 'Scott Sanderson', 'room': 20},\n",
       "     {'title': 'Exploratory Data Visualization with Vega, Vega-Lite, and Altair',\n",
       "      'speaker': 'Jake VanderPlas',\n",
       "      'room': 21}],\n",
       "    type='4 * {title : string, speaker : string, room : int64}')"
      ]
     },
     "execution_count": 14,
     "metadata": {},
     "output_type": "execute_result"
    }
   ],
   "source": [
    "data = [{'title': 'Introduction to Digital Signal Processing', \n",
    "         'speaker': 'Allen Downey', \n",
    "          'room': 10},\n",
    "        {'title': 'Making Art with Python', \n",
    "         'speaker':'Emily Xie', \n",
    "         'room': 16},\n",
    "        {'title': 'Foundations of Numerical Computing in Python', \n",
    "         'speaker': 'Scott Sanderson', \n",
    "         'room': 20},\n",
    "        {'title':'Exploratory Data Visualization with Vega, Vega-Lite, and Altair', \n",
    "         'speaker':'Jake VanderPlas', \n",
    "         'room': 21}]\n",
    "\n",
    "\n",
    "\n",
    "x = xnd(data)\n",
    "x"
   ]
  },
  {
   "cell_type": "code",
   "execution_count": 15,
   "metadata": {},
   "outputs": [
    {
     "data": {
      "text/plain": [
       "xnd({'title': 'Introduction to Digital Signal Processing', 'speaker': 'Allen Downey', 'room': 10},\n",
       "    type='{title : string, speaker : string, room : int64}')"
      ]
     },
     "execution_count": 15,
     "metadata": {},
     "output_type": "execute_result"
    }
   ],
   "source": [
    "x[0]"
   ]
  },
  {
   "cell_type": "code",
   "execution_count": 16,
   "metadata": {},
   "outputs": [
    {
     "data": {
      "text/plain": [
       "'Making Art with Python'"
      ]
     },
     "execution_count": 16,
     "metadata": {},
     "output_type": "execute_result"
    }
   ],
   "source": [
    "x[1, 0]"
   ]
  },
  {
   "cell_type": "markdown",
   "metadata": {},
   "source": [
    "## Creating xnd container from numpy arrays and records arrays"
   ]
  },
  {
   "cell_type": "code",
   "execution_count": 17,
   "metadata": {},
   "outputs": [
    {
     "data": {
      "text/plain": [
       "xnd([[[0.6076881899689686, 0.6219109519913005, 0.30344618200092954, 0.08173401021496007, 0.3844624759307528],\n",
       "      [0.6856190351548628, 0.05350141186353041, 0.25899927575708814, 0.37261337824969687, 0.5977425692393364],\n",
       "      [0.7945231795210885, 0.8012982119656936, 0.08137444991838749, 0.2439180258815713, 0.9529049126548508],\n",
       "      [0.5988979975713662, 0.0806151782502349, 0.0008232917027927167, 0.2772265980748734, 0.8506145117732026]],\n",
       "     [[0.5413552607137084, 0.38746376304706354, 0.4997580259783966, 0.4444103103829682, 0.4235021424530925],\n",
       "      [0.03952215022135419, 0.5729745985892067, 0.7502721665968254, 0.8265034406454439, 0.46855793908725696],\n",
       "      [0.2820798588576, 0.045337483685417346, 0.9794748192013842, 0.11539842718451232, 0.845022406930828],\n",
       "      [0.7769521661141332, 0.36245588386407834, 0.22032637869994698, 0.3893101355617755, 0.8152267191084634]],\n",
       "     [[0.1102928359169234, 0.022734405536281366, 0.4190526844616239, 0.7684482342007484, 0.48975669701272706],\n",
       "      [0.5326803106752793, 0.15382853313615452, 0.028146844762835355, 0.985948532595062, 0.6092562146100989],\n",
       "      [0.45312797689201123, 0.6719679530716122, 0.028687762568847863, 0.6956712127570429, 0.5226101246350016],\n",
       "      [0.16867943140257635, 0.5438065634312917, 0.029915781827511423, 0.4087459143075636, 0.5916862157553251]]],\n",
       "    type='3 * 4 * 5 * float64')"
      ]
     },
     "execution_count": 17,
     "metadata": {},
     "output_type": "execute_result"
    }
   ],
   "source": [
    "data = np.random.random(size=(3, 4, 5))\n",
    "xnd.from_buffer(data)"
   ]
  },
  {
   "cell_type": "code",
   "execution_count": 18,
   "metadata": {},
   "outputs": [
    {
     "data": {
      "text/plain": [
       "xnd([{'foo': b'Hello\\x00', 'bar': {'A': 1, 'B': 2}}, {'foo': b'World\\x00', 'bar': {'A': 3, 'B': 4}}],\n",
       "    type='2 * {foo : fixed_bytes(size=6), bar : {A : int64, B : int64}}')"
      ]
     },
     "execution_count": 18,
     "metadata": {},
     "output_type": "execute_result"
    }
   ],
   "source": [
    "recordarr = np.rec.array([('Hello', (1,2)),(\"World\", (3,4))], \n",
    "               dtype=[('foo', 'S6'),('bar', [('A', int), ('B', int)])])\n",
    "xnd.from_buffer(recordarr)"
   ]
  },
  {
   "cell_type": "markdown",
   "metadata": {},
   "source": [
    "## Creating xnd container with explicity types\n",
    "\n",
    "Creating an xnd container with explicit types has significant performance advantages for large arrays. This is because xnd does not have to infer the type for each element."
   ]
  },
  {
   "cell_type": "code",
   "execution_count": 19,
   "metadata": {},
   "outputs": [],
   "source": [
    "N = 1000000\n",
    "alist = [1] * N"
   ]
  },
  {
   "cell_type": "code",
   "execution_count": 20,
   "metadata": {},
   "outputs": [
    {
     "name": "stdout",
     "output_type": "stream",
     "text": [
      "2.33 s ± 79.7 ms per loop (mean ± std. dev. of 7 runs, 1 loop each)\n"
     ]
    }
   ],
   "source": [
    "%%timeit\n",
    "xnd(alist)"
   ]
  },
  {
   "cell_type": "code",
   "execution_count": 21,
   "metadata": {},
   "outputs": [
    {
     "name": "stdout",
     "output_type": "stream",
     "text": [
      "41 ms ± 2.01 ms per loop (mean ± std. dev. of 7 runs, 10 loops each)\n"
     ]
    }
   ],
   "source": [
    "%%timeit\n",
    "types = f\"{N} * int64\"\n",
    "xnd(alist, type=types)"
   ]
  }
 ],
 "metadata": {
  "kernelspec": {
   "display_name": "Python 3",
   "language": "python",
   "name": "python3"
  },
  "language_info": {
   "codemirror_mode": {
    "name": "ipython",
    "version": 3
   },
   "file_extension": ".py",
   "mimetype": "text/x-python",
   "name": "python",
   "nbconvert_exporter": "python",
   "pygments_lexer": "ipython3",
   "version": "3.6.5"
  }
 },
 "nbformat": 4,
 "nbformat_minor": 2
}
