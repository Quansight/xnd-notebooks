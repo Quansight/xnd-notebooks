{
 "cells": [
  {
   "cell_type": "code",
   "execution_count": 1,
   "metadata": {},
   "outputs": [],
   "source": [
    "import sys\n",
    "import xnd"
   ]
  },
  {
   "cell_type": "code",
   "execution_count": 2,
   "metadata": {},
   "outputs": [
    {
     "name": "stdout",
     "output_type": "stream",
     "text": [
      "Python 3.6.5 | packaged by conda-forge | (default, Apr  6 2018, 13:39:56) \n",
      "[GCC 4.8.2 20140120 (Red Hat 4.8.2-15)]\n"
     ]
    }
   ],
   "source": [
    "print('Python %s' % sys.version)"
   ]
  },
  {
   "cell_type": "code",
   "execution_count": 3,
   "metadata": {},
   "outputs": [],
   "source": [
    "from xnd import xnd\n",
    "from ndtypes import ndt\n",
    "import numpy as np"
   ]
  },
  {
   "cell_type": "markdown",
   "metadata": {},
   "source": [
    "Basic usage is quite similar to numpy, the data type is deduced from python types when converting. "
   ]
  },
  {
   "cell_type": "code",
   "execution_count": 4,
   "metadata": {},
   "outputs": [
    {
     "data": {
      "text/plain": [
       "xnd([1, 2, 3, 4, 5], type='5 * int64')"
      ]
     },
     "execution_count": 4,
     "metadata": {},
     "output_type": "execute_result"
    }
   ],
   "source": [
    "xnd([1, 2, 3, 4, 5]) # xnd"
   ]
  },
  {
   "cell_type": "code",
   "execution_count": 5,
   "metadata": {},
   "outputs": [
    {
     "data": {
      "text/plain": [
       "array([1, 2, 3, 4, 5])"
      ]
     },
     "execution_count": 5,
     "metadata": {},
     "output_type": "execute_result"
    }
   ],
   "source": [
    "np.array([1, 2, 3, 4, 5])  # numpy "
   ]
  },
  {
   "cell_type": "code",
   "execution_count": 6,
   "metadata": {},
   "outputs": [
    {
     "data": {
      "text/plain": [
       "xnd([[1.0, 1.5], [-1.5, 1.0]], type='2 * 2 * float64')"
      ]
     },
     "execution_count": 6,
     "metadata": {},
     "output_type": "execute_result"
    }
   ],
   "source": [
    "xnd([[1., 1.5], [-1.5, 1.]]) # xnd"
   ]
  },
  {
   "cell_type": "code",
   "execution_count": 7,
   "metadata": {},
   "outputs": [
    {
     "data": {
      "text/plain": [
       "array([[ 1. ,  1.5],\n",
       "       [-1.5,  1. ]])"
      ]
     },
     "execution_count": 7,
     "metadata": {},
     "output_type": "execute_result"
    }
   ],
   "source": [
    "np.array([[1, 1.5], [-1.5, 1]]) # numpy "
   ]
  },
  {
   "cell_type": "markdown",
   "metadata": {},
   "source": [
    "\n",
    "You can see some differences with numpy at this level already, such as the array dimensionality being included in the type."
   ]
  },
  {
   "cell_type": "markdown",
   "metadata": {},
   "source": [
    "The default string is variable-length in xnd. In numpy, you either choose a maximum size, or use object arrays with lower performance."
   ]
  },
  {
   "cell_type": "code",
   "execution_count": 8,
   "metadata": {},
   "outputs": [
    {
     "data": {
      "text/plain": [
       "xnd(['this', 'is', 'a', 'test', 'notebook'], type='5 * string')"
      ]
     },
     "execution_count": 8,
     "metadata": {},
     "output_type": "execute_result"
    }
   ],
   "source": [
    "xnd([\"this\", \"is\", \"a\", \"test\", \"notebook\"]) # xnd"
   ]
  },
  {
   "cell_type": "code",
   "execution_count": 9,
   "metadata": {},
   "outputs": [
    {
     "data": {
      "text/plain": [
       "array(['this', 'is', 'a', 'test', 'notebook'], dtype='<U8')"
      ]
     },
     "execution_count": 9,
     "metadata": {},
     "output_type": "execute_result"
    }
   ],
   "source": [
    "np.array([\"this\", \"is\", \"a\", \"test\", \"notebook\"]) # numpy"
   ]
  },
  {
   "cell_type": "markdown",
   "metadata": {},
   "source": [
    "xnd has a variable-length dimension type, which supports ragged arrays. If you give this kind of data to numpy, it uses arrays which are slower and the array programming functionality in the ragged dimension"
   ]
  },
  {
   "cell_type": "code",
   "execution_count": 10,
   "metadata": {},
   "outputs": [
    {
     "data": {
      "text/plain": [
       "xnd([[1, 5, 2], [1], [7, 9, 10, 20, 13]], type='var * var * int64')"
      ]
     },
     "execution_count": 10,
     "metadata": {},
     "output_type": "execute_result"
    }
   ],
   "source": [
    "xnd([[1,5,2], [1], [7,9,10,20,13]]) # xnd"
   ]
  },
  {
   "cell_type": "code",
   "execution_count": 11,
   "metadata": {},
   "outputs": [
    {
     "data": {
      "text/plain": [
       "array([list([1, 5, 2]), list([1]), list([7, 9, 10, 20, 13])], dtype=object)"
      ]
     },
     "execution_count": 11,
     "metadata": {},
     "output_type": "execute_result"
    }
   ],
   "source": [
    "np.array([[1,5,2], [1], [7,9,10,20,13]]) # numpy"
   ]
  },
  {
   "cell_type": "markdown",
   "metadata": {},
   "source": [
    "xnd provides a convenient way to create arrays of structs.  "
   ]
  },
  {
   "cell_type": "code",
   "execution_count": 12,
   "metadata": {},
   "outputs": [
    {
     "data": {
      "text/plain": [
       "xnd([('Introduction to Digital Signal Processing', 'Allen Downey', 10),\n",
       "     ('Making Art with Python', 'Emily Xie', 16),\n",
       "     ('Foundations of Numerical Computing in Python', 'Scott Sanderson', 20),\n",
       "     ('Exploratory Data Visualization with Vega, Vega-Lite, and Altair', 'Jake VanderPlas', 21)],\n",
       "    type='4 * (string, string, uint8)')"
      ]
     },
     "execution_count": 12,
     "metadata": {},
     "output_type": "execute_result"
    }
   ],
   "source": [
    "data = [('Introduction to Digital Signal Processing', 'Allen Downey', 10),\n",
    "        ('Making Art with Python', 'Emily Xie', 16),\n",
    "        ('Foundations of Numerical Computing in Python', 'Scott Sanderson', 20),\n",
    "        ('Exploratory Data Visualization with Vega, Vega-Lite, and Altair', 'Jake VanderPlas', 21)]\n",
    "\n",
    "dtype = '4 * (string, string, uint8)'\n",
    "\n",
    "x = xnd(data, type=dtype)\n",
    "x"
   ]
  },
  {
   "cell_type": "code",
   "execution_count": 13,
   "metadata": {},
   "outputs": [
    {
     "data": {
      "text/plain": [
       "'Introduction to Digital Signal Processing'"
      ]
     },
     "execution_count": 13,
     "metadata": {},
     "output_type": "execute_result"
    }
   ],
   "source": [
    "x[0, 0]"
   ]
  },
  {
   "cell_type": "code",
   "execution_count": 14,
   "metadata": {},
   "outputs": [
    {
     "data": {
      "text/plain": [
       "('Making Art with Python', 20, 'Jake VanderPlas')"
      ]
     },
     "execution_count": 14,
     "metadata": {},
     "output_type": "execute_result"
    }
   ],
   "source": [
    "x[1, 0], x[2, 2], x[3, 1]"
   ]
  },
  {
   "cell_type": "code",
   "execution_count": 15,
   "metadata": {},
   "outputs": [
    {
     "data": {
      "text/plain": [
       "xnd([{'name': 'Alice', 'location': {'city': 'LA', 'state': 'CA'}, 'credits': [1, 2, 3]},\n",
       "     {'name': 'Bob', 'location': {'city': 'NYC', 'state': 'NY'}, 'credits': [4, 5, 5]}],\n",
       "    type='2 * {name : string, location : {city : string, state : string}, credits : 3 * int64}')"
      ]
     },
     "execution_count": 15,
     "metadata": {},
     "output_type": "execute_result"
    }
   ],
   "source": [
    "data2 = [{'name': 'Alice', \n",
    "          'location' : {'city': 'LA', 'state': 'CA'},\n",
    "          'credits' : [1, 2, 3]},\n",
    "         {'name': 'Bob', \n",
    "          'location' : {'city': 'NYC', 'state': 'NY'},\n",
    "          'credits' : [4, 5, 5]}]\n",
    "dtype='2 * {name : string, location : {city : string, state : string}, credits : var * int64}'\n",
    "x = xnd(data2)\n",
    "x"
   ]
  },
  {
   "cell_type": "code",
   "execution_count": null,
   "metadata": {},
   "outputs": [],
   "source": []
  },
  {
   "cell_type": "code",
   "execution_count": null,
   "metadata": {},
   "outputs": [],
   "source": []
  },
  {
   "cell_type": "code",
   "execution_count": null,
   "metadata": {},
   "outputs": [],
   "source": []
  }
 ],
 "metadata": {
  "kernelspec": {
   "display_name": "Python 3",
   "language": "python",
   "name": "python3"
  },
  "language_info": {
   "codemirror_mode": {
    "name": "ipython",
    "version": 3
   },
   "file_extension": ".py",
   "mimetype": "text/x-python",
   "name": "python",
   "nbconvert_exporter": "python",
   "pygments_lexer": "ipython3",
   "version": "3.6.5"
  }
 },
 "nbformat": 4,
 "nbformat_minor": 2
}
