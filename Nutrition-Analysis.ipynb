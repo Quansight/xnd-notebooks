{
 "cells": [
  {
   "cell_type": "markdown",
   "metadata": {},
   "source": [
    "# Nutrition, Physical Activity, and Obesity - Behavioral Risk Factor Surveillance System\n",
    "\n",
    "The data used here is from Data.gov, managed and hosted by the U.S. General Services Administration, Technology Transformation Service (https://catalog.data.gov)\n",
    "\n",
    "The dataset includes data on adult's diet, physical activity, and weight status from Behavioral Risk Factor Surveillance System. This data is used for DNPAO's Data, ..."
   ]
  },
  {
   "cell_type": "markdown",
   "metadata": {},
   "source": [
    "## Setup\n",
    "\n",
    "First we need to import the some libraries"
   ]
  },
  {
   "cell_type": "code",
   "execution_count": 1,
   "metadata": {},
   "outputs": [],
   "source": [
    "import json\n",
    "import sys\n",
    "from importnb import Notebook\n",
    "from IPython.display import display"
   ]
  },
  {
   "cell_type": "code",
   "execution_count": 2,
   "metadata": {},
   "outputs": [],
   "source": [
    "import matplotlib as mpl\n",
    "import matplotlib.pyplot as plt\n",
    "import networkx as nx"
   ]
  },
  {
   "cell_type": "code",
   "execution_count": 3,
   "metadata": {},
   "outputs": [],
   "source": [
    "from xnd import xnd"
   ]
  },
  {
   "cell_type": "code",
   "execution_count": 4,
   "metadata": {},
   "outputs": [],
   "source": [
    "sys.path.insert(0, 'utils')\n",
    "_ = !pwd\n",
    "__file__ =_[0]"
   ]
  },
  {
   "cell_type": "code",
   "execution_count": 5,
   "metadata": {},
   "outputs": [],
   "source": [
    "with Notebook(): \n",
    "    from json_processing import (\n",
    "        get_xnd_type, json_cleaning, json_meta_type, json_normalize\n",
    "    )"
   ]
  },
  {
   "cell_type": "code",
   "execution_count": 6,
   "metadata": {},
   "outputs": [],
   "source": [
    "def walk(G, node):\n",
    "    if isinstance(node, dict):\n",
    "        for key, item in node.items():\n",
    "            if isinstance(item, dict):\n",
    "                for j in item.keys():\n",
    "                    G.add_edge(key, j)\n",
    "                walk(G, item)\n",
    "    if isinstance(node, list):\n",
    "        walk(G, node[0])\n",
    "    return\n",
    "            \n",
    "def gen_graph(data):\n",
    "    G = nx.Graph()\n",
    "    \n",
    "    for key in data.keys():\n",
    "        G.add_edge('ROOT', key)\n",
    "\n",
    "    walk(G, data)\n",
    "    \n",
    "    return G"
   ]
  },
  {
   "cell_type": "code",
   "execution_count": 7,
   "metadata": {},
   "outputs": [],
   "source": [
    "test_data = {\n",
    "    'tree': {\n",
    "        'leaf1': [1, 2],\n",
    "        'leaf2': [2, 4]}, \n",
    "    'cars': [\n",
    "        {'model': 'model1', 'year': 2010},\n",
    "        {'model': 'model2', 'color': 'blue'},\n",
    "        {'ports': {'numbers': 4}}\n",
    "    ]\n",
    "}"
   ]
  },
  {
   "cell_type": "code",
   "execution_count": 8,
   "metadata": {},
   "outputs": [
    {
     "data": {
      "text/plain": [
       "{'tree': {'leaf1': [1, 2], 'leaf2': [2, 4]},\n",
       " 'cars': [{'model': 'model1', 'year': 2010},\n",
       "  {'model': 'model2', 'color': 'blue'},\n",
       "  {'ports': {'numbers': 4}}]}"
      ]
     },
     "execution_count": 8,
     "metadata": {},
     "output_type": "execute_result"
    }
   ],
   "source": [
    "test_data_clean = json_cleaning(test_data)\n",
    "test_data_clean"
   ]
  },
  {
   "cell_type": "code",
   "execution_count": 9,
   "metadata": {},
   "outputs": [
    {
     "data": {
      "text/plain": [
       "{'tree': {'leaf1': [1, 2], 'leaf2': [2, 4]},\n",
       " 'cars': [{'model': 'model1',\n",
       "   'year': 2010,\n",
       "   'color': None,\n",
       "   'ports': {'numbers': None}},\n",
       "  {'model': 'model2',\n",
       "   'color': 'blue',\n",
       "   'year': None,\n",
       "   'ports': {'numbers': None}},\n",
       "  {'ports': {'numbers': 4}, 'model': None, 'year': None, 'color': None}]}"
      ]
     },
     "execution_count": 9,
     "metadata": {},
     "output_type": "execute_result"
    }
   ],
   "source": [
    "test_data_norm = json_normalize(test_data_clean)\n",
    "test_data_norm"
   ]
  },
  {
   "cell_type": "code",
   "execution_count": 10,
   "metadata": {},
   "outputs": [
    {
     "data": {
      "text/plain": [
       "{'tree': {'value_type': dict,\n",
       "  'nullable': True,\n",
       "  'value': {'leaf1': {'value_type': list,\n",
       "    'nullable': True,\n",
       "    'count': 2,\n",
       "    'value': int},\n",
       "   'leaf2': {'value_type': list, 'nullable': True, 'count': 2, 'value': int}}},\n",
       " 'cars': {'value_type': dict,\n",
       "  'nullable': True,\n",
       "  'count': 3,\n",
       "  'value': {'model': {'nullable': True, 'value_type': str},\n",
       "   'year': {'nullable': True, 'value_type': int},\n",
       "   'color': {'nullable': True, 'value_type': str},\n",
       "   'ports': {'nullable': True,\n",
       "    'value_type': dict,\n",
       "    'value': {'numbers': {'value_type': int, 'nullable': True}}}}}}"
      ]
     },
     "execution_count": 10,
     "metadata": {},
     "output_type": "execute_result"
    }
   ],
   "source": [
    "meta_type = json_meta_type(test_data_norm, True)\n",
    "meta_type"
   ]
  },
  {
   "cell_type": "code",
   "execution_count": 11,
   "metadata": {},
   "outputs": [
    {
     "data": {
      "text/plain": [
       "'{tree: ?{leaf1: 2 * ?int64, leaf2: 2 * ?int64}, cars: 3 * ?{model: ?string, year: ?int64, color: ?string, ports: ?{numbers: ?int64}}}'"
      ]
     },
     "execution_count": 11,
     "metadata": {},
     "output_type": "execute_result"
    }
   ],
   "source": [
    "test_type = get_xnd_type(meta_type)\n",
    "test_type"
   ]
  },
  {
   "cell_type": "code",
   "execution_count": 12,
   "metadata": {},
   "outputs": [
    {
     "data": {
      "text/plain": [
       "xnd({'tree': {'leaf1': [1, 2], 'leaf2': [2, 4]},\n",
       "     'cars': [{'model': 'model1', 'year': 2010, 'color': None, 'ports': {'numbers': None}},\n",
       "      {'model': 'model2', 'year': None, 'color': 'blue', 'ports': {'numbers': None}},\n",
       "      {'model': None, 'year': None, 'color': None, 'ports': {'numbers': 4}}]},\n",
       "    type='{tree : ?{leaf1 : 2 * ?int64, leaf2 : 2 * ?int64}, cars : 3 * ?{model : ?string, year : ?int64, color : ?string, ports : ?{numbers : ?int64}}}')"
      ]
     },
     "execution_count": 12,
     "metadata": {},
     "output_type": "execute_result"
    }
   ],
   "source": [
    "xnd(test_data_norm, type=test_type)"
   ]
  },
  {
   "cell_type": "markdown",
   "metadata": {},
   "source": [
    "## Loading Data\n",
    "\n",
    "The data for this tutorial could be downloaded at https://chronicdata.cdc.gov/views/hn4x-zwk7/rows.json?accessType=DOWNLOAD\n",
    "\n",
    "We already have this data at `data/data-gov-nutrition.json`"
   ]
  },
  {
   "cell_type": "code",
   "execution_count": 13,
   "metadata": {},
   "outputs": [],
   "source": [
    "data = []\n",
    "with open('data/githubarchive.json') as f:\n",
    "    for i, line in enumerate(f.readlines()):\n",
    "        data.append(json.loads(line))"
   ]
  },
  {
   "cell_type": "code",
   "execution_count": 14,
   "metadata": {},
   "outputs": [
    {
     "data": {
      "text/plain": [
       "ValueError('dtype mismatch: have {id: string, type: string, actor: {id: int64, login: string, gravatar_id: string, url: string, avatar_url: string}, repo: {id: int64, name: string, url: string}, payload: {ref: string, ref_type: string, master_branch: string, description: string, pusher_type: string}, public: int64, created_at: string} and {id: string, type: string, actor: {id: int64, login: string, gravatar_id: string, url: string, avatar_url: string}, repo: {id: int64, name: string, url: string}, payload: {push_id: int64, size: int64, distinct_size: int64, ref: string, head: string, before: string, commits: 1 * {sha: string, author: {email: string, name: string}, message: string, distinct: int64, url: string}}, public: int64, created_at: string}')"
      ]
     },
     "metadata": {},
     "output_type": "display_data"
    }
   ],
   "source": [
    "try:\n",
    "    xdata = xnd(data)\n",
    "except Exception as e:\n",
    "    display(e)"
   ]
  },
  {
   "cell_type": "code",
   "execution_count": 15,
   "metadata": {},
   "outputs": [],
   "source": [
    "data_clean = json_cleaning(data)\n",
    "data_norm = json_normalize(data_clean)"
   ]
  },
  {
   "cell_type": "code",
   "execution_count": 16,
   "metadata": {},
   "outputs": [
    {
     "data": {
      "text/plain": [
       "{'nullable': True,\n",
       " 'count': 11351,\n",
       " 'value_type': dict,\n",
       " 'value': {'id': {'nullable': True, 'value_type': str},\n",
       "  'type': {'nullable': True, 'value_type': str},\n",
       "  'actor': {'nullable': True,\n",
       "   'value_type': dict,\n",
       "   'value': {'id': {'value_type': int, 'nullable': True},\n",
       "    'login': {'value_type': str, 'nullable': True},\n",
       "    'gravatar_id': {'value_type': str, 'nullable': True},\n",
       "    'url': {'value_type': str, 'nullable': True},\n",
       "    'avatar_url': {'value_type': str, 'nullable': True}}},\n",
       "  'repo': {'nullable': True,\n",
       "   'value_type': dict,\n",
       "   'value': {'id': {'value_type': int, 'nullable': True},\n",
       "    'name': {'value_type': str, 'nullable': True},\n",
       "    'url': {'value_type': str, 'nullable': True}}},\n",
       "  'payload': {'nullable': True,\n",
       "   'value_type': dict,\n",
       "   'value': {'action': {'value_type': str, 'nullable': True},\n",
       "    'issue': {'value_type': dict,\n",
       "     'nullable': True,\n",
       "     'value': {'url': {'value_type': str, 'nullable': True},\n",
       "      'labels_url': {'value_type': str, 'nullable': True},\n",
       "      'comments_url': {'value_type': str, 'nullable': True},\n",
       "      'events_url': {'value_type': str, 'nullable': True},\n",
       "      'html_url': {'value_type': str, 'nullable': True},\n",
       "      'id': {'value_type': int, 'nullable': True},\n",
       "      'number': {'value_type': int, 'nullable': True},\n",
       "      'title': {'value_type': str, 'nullable': True},\n",
       "      'user': {'value_type': dict,\n",
       "       'nullable': True,\n",
       "       'value': {'login': {'value_type': str, 'nullable': True},\n",
       "        'id': {'value_type': int, 'nullable': True},\n",
       "        'avatar_url': {'value_type': str, 'nullable': True},\n",
       "        'gravatar_id': {'value_type': str, 'nullable': True},\n",
       "        'url': {'value_type': str, 'nullable': True},\n",
       "        'html_url': {'value_type': str, 'nullable': True},\n",
       "        'followers_url': {'value_type': str, 'nullable': True},\n",
       "        'following_url': {'value_type': str, 'nullable': True},\n",
       "        'gists_url': {'value_type': str, 'nullable': True},\n",
       "        'starred_url': {'value_type': str, 'nullable': True},\n",
       "        'subscriptions_url': {'value_type': str, 'nullable': True},\n",
       "        'organizations_url': {'value_type': str, 'nullable': True},\n",
       "        'repos_url': {'value_type': str, 'nullable': True},\n",
       "        'events_url': {'value_type': str, 'nullable': True},\n",
       "        'received_events_url': {'value_type': str, 'nullable': True},\n",
       "        'type': {'value_type': str, 'nullable': True},\n",
       "        'site_admin': {'value_type': bool, 'nullable': True}}},\n",
       "      'labels': {'value_type': list, 'nullable': True},\n",
       "      'state': {'value_type': str, 'nullable': True},\n",
       "      'locked': {'value_type': bool, 'nullable': True},\n",
       "      'assignee': {'value_type': NoneType, 'nullable': True},\n",
       "      'milestone': {'value_type': NoneType, 'nullable': True},\n",
       "      'comments': {'value_type': int, 'nullable': True},\n",
       "      'created_at': {'value_type': str, 'nullable': True},\n",
       "      'updated_at': {'value_type': str, 'nullable': True},\n",
       "      'closed_at': {'value_type': NoneType, 'nullable': True},\n",
       "      'body': {'value_type': str, 'nullable': True}}}}},\n",
       "  'public': {'nullable': True, 'value_type': bool},\n",
       "  'created_at': {'nullable': True, 'value_type': str},\n",
       "  'org': {'nullable': True,\n",
       "   'value_type': dict,\n",
       "   'value': {'id': {'value_type': NoneType, 'nullable': True},\n",
       "    'login': {'value_type': NoneType, 'nullable': True},\n",
       "    'gravatar_id': {'value_type': NoneType, 'nullable': True},\n",
       "    'url': {'value_type': NoneType, 'nullable': True},\n",
       "    'avatar_url': {'value_type': NoneType, 'nullable': True}}}}}"
      ]
     },
     "execution_count": 16,
     "metadata": {},
     "output_type": "execute_result"
    }
   ],
   "source": [
    "meta = json_meta_type(data_norm, True)\n",
    "meta"
   ]
  },
  {
   "cell_type": "code",
   "execution_count": 17,
   "metadata": {},
   "outputs": [
    {
     "ename": "KeyError",
     "evalue": "'value'",
     "output_type": "error",
     "traceback": [
      "\u001b[0;31m---------------------------------------------------------------------------\u001b[0m",
      "\u001b[0;31mKeyError\u001b[0m                                  Traceback (most recent call last)",
      "\u001b[0;32m~/dev/quansight/xnd-notebooks\u001b[0m in \u001b[0;36m<module>\u001b[0;34m()\u001b[0m\n\u001b[0;32m----> 1\u001b[0;31m \u001b[0mxnd_type\u001b[0m \u001b[0;34m=\u001b[0m \u001b[0mget_xnd_type\u001b[0m\u001b[0;34m(\u001b[0m\u001b[0mmeta\u001b[0m\u001b[0;34m)\u001b[0m\u001b[0;34m\u001b[0m\u001b[0m\n\u001b[0m\u001b[1;32m      2\u001b[0m \u001b[0mprint\u001b[0m\u001b[0;34m(\u001b[0m\u001b[0mxnd_type\u001b[0m\u001b[0;34m.\u001b[0m\u001b[0mreplace\u001b[0m\u001b[0;34m(\u001b[0m\u001b[0;34m','\u001b[0m\u001b[0;34m,\u001b[0m \u001b[0;34m',\\n'\u001b[0m\u001b[0;34m)\u001b[0m\u001b[0;34m)\u001b[0m\u001b[0;34m\u001b[0m\u001b[0m\n",
      "\u001b[0;32m/mnt/sda1/dev/quansight/xnd-notebooks/utils/json_processing.ipynb\u001b[0m in \u001b[0;36mget_xnd_type\u001b[0;34m(meta)\u001b[0m\n\u001b[1;32m    415\u001b[0m     \u001b[0;34m\"    else:\\n\"\u001b[0m\u001b[0;34m,\u001b[0m\u001b[0;34m\u001b[0m\u001b[0m\n\u001b[1;32m    416\u001b[0m     \u001b[0;34m\"        _xnd_type_template = '{}'\\n\"\u001b[0m\u001b[0;34m,\u001b[0m\u001b[0;34m\u001b[0m\u001b[0m\n\u001b[0;32m--> 417\u001b[0;31m     \u001b[0;34m\"        _xnd_type_value.extend(_get_xnd_type_item(None, meta))\\n\"\u001b[0m\u001b[0;34m,\u001b[0m\u001b[0;34m\u001b[0m\u001b[0m\n\u001b[0m\u001b[1;32m    418\u001b[0m     \u001b[0;34m\"            \\n\"\u001b[0m\u001b[0;34m,\u001b[0m\u001b[0;34m\u001b[0m\u001b[0m\n\u001b[1;32m    419\u001b[0m     \u001b[0;34m\"    return _xnd_type_template.format(', '.join(_xnd_type_value))\\n\"\u001b[0m\u001b[0;34m,\u001b[0m\u001b[0;34m\u001b[0m\u001b[0m\n",
      "\u001b[0;32m/mnt/sda1/dev/quansight/xnd-notebooks/utils/json_processing.ipynb\u001b[0m in \u001b[0;36m_get_xnd_type_item\u001b[0;34m(k, item)\u001b[0m\n\u001b[1;32m    385\u001b[0m     \u001b[0;34m\"    if item['value_type'] is dict:\\n\"\u001b[0m\u001b[0;34m,\u001b[0m\u001b[0;34m\u001b[0m\u001b[0m\n\u001b[1;32m    386\u001b[0m     \u001b[0;34m\"        if isinstance(item['value'], dict):\\n\"\u001b[0m\u001b[0;34m,\u001b[0m\u001b[0;34m\u001b[0m\u001b[0m\n\u001b[0;32m--> 387\u001b[0;31m     \u001b[0;34m\"            _xnd_item_value = get_xnd_type(item['value'])\\n\"\u001b[0m\u001b[0;34m,\u001b[0m\u001b[0;34m\u001b[0m\u001b[0m\n\u001b[0m\u001b[1;32m    388\u001b[0m     \u001b[0;34m\"        else:\\n\"\u001b[0m\u001b[0;34m,\u001b[0m\u001b[0;34m\u001b[0m\u001b[0m\n\u001b[1;32m    389\u001b[0m     \u001b[0;34m\"            _xnd_item_value = item['value'].__name__\\n\"\u001b[0m\u001b[0;34m,\u001b[0m\u001b[0;34m\u001b[0m\u001b[0m\n",
      "\u001b[0;32m/mnt/sda1/dev/quansight/xnd-notebooks/utils/json_processing.ipynb\u001b[0m in \u001b[0;36mget_xnd_type\u001b[0;34m(meta)\u001b[0m\n\u001b[1;32m    412\u001b[0m     \u001b[0;34m\"        _xnd_type_template = '{{{}}}'\\n\"\u001b[0m\u001b[0;34m,\u001b[0m\u001b[0;34m\u001b[0m\u001b[0m\n\u001b[1;32m    413\u001b[0m     \u001b[0;34m\"        for k, item in meta.items():\\n\"\u001b[0m\u001b[0;34m,\u001b[0m\u001b[0;34m\u001b[0m\u001b[0m\n\u001b[0;32m--> 414\u001b[0;31m     \u001b[0;34m\"            _xnd_type_value.extend(_get_xnd_type_item(k, item))\\n\"\u001b[0m\u001b[0;34m,\u001b[0m\u001b[0;34m\u001b[0m\u001b[0m\n\u001b[0m\u001b[1;32m    415\u001b[0m     \u001b[0;34m\"    else:\\n\"\u001b[0m\u001b[0;34m,\u001b[0m\u001b[0;34m\u001b[0m\u001b[0m\n\u001b[1;32m    416\u001b[0m     \u001b[0;34m\"        _xnd_type_template = '{}'\\n\"\u001b[0m\u001b[0;34m,\u001b[0m\u001b[0;34m\u001b[0m\u001b[0m\n",
      "\u001b[0;32m/mnt/sda1/dev/quansight/xnd-notebooks/utils/json_processing.ipynb\u001b[0m in \u001b[0;36m_get_xnd_type_item\u001b[0;34m(k, item)\u001b[0m\n\u001b[1;32m    385\u001b[0m     \u001b[0;34m\"    if item['value_type'] is dict:\\n\"\u001b[0m\u001b[0;34m,\u001b[0m\u001b[0;34m\u001b[0m\u001b[0m\n\u001b[1;32m    386\u001b[0m     \u001b[0;34m\"        if isinstance(item['value'], dict):\\n\"\u001b[0m\u001b[0;34m,\u001b[0m\u001b[0;34m\u001b[0m\u001b[0m\n\u001b[0;32m--> 387\u001b[0;31m     \u001b[0;34m\"            _xnd_item_value = get_xnd_type(item['value'])\\n\"\u001b[0m\u001b[0;34m,\u001b[0m\u001b[0;34m\u001b[0m\u001b[0m\n\u001b[0m\u001b[1;32m    388\u001b[0m     \u001b[0;34m\"        else:\\n\"\u001b[0m\u001b[0;34m,\u001b[0m\u001b[0;34m\u001b[0m\u001b[0m\n\u001b[1;32m    389\u001b[0m     \u001b[0;34m\"            _xnd_item_value = item['value'].__name__\\n\"\u001b[0m\u001b[0;34m,\u001b[0m\u001b[0;34m\u001b[0m\u001b[0m\n",
      "\u001b[0;32m/mnt/sda1/dev/quansight/xnd-notebooks/utils/json_processing.ipynb\u001b[0m in \u001b[0;36mget_xnd_type\u001b[0;34m(meta)\u001b[0m\n\u001b[1;32m    412\u001b[0m     \u001b[0;34m\"        _xnd_type_template = '{{{}}}'\\n\"\u001b[0m\u001b[0;34m,\u001b[0m\u001b[0;34m\u001b[0m\u001b[0m\n\u001b[1;32m    413\u001b[0m     \u001b[0;34m\"        for k, item in meta.items():\\n\"\u001b[0m\u001b[0;34m,\u001b[0m\u001b[0;34m\u001b[0m\u001b[0m\n\u001b[0;32m--> 414\u001b[0;31m     \u001b[0;34m\"            _xnd_type_value.extend(_get_xnd_type_item(k, item))\\n\"\u001b[0m\u001b[0;34m,\u001b[0m\u001b[0;34m\u001b[0m\u001b[0m\n\u001b[0m\u001b[1;32m    415\u001b[0m     \u001b[0;34m\"    else:\\n\"\u001b[0m\u001b[0;34m,\u001b[0m\u001b[0;34m\u001b[0m\u001b[0m\n\u001b[1;32m    416\u001b[0m     \u001b[0;34m\"        _xnd_type_template = '{}'\\n\"\u001b[0m\u001b[0;34m,\u001b[0m\u001b[0;34m\u001b[0m\u001b[0m\n",
      "\u001b[0;32m/mnt/sda1/dev/quansight/xnd-notebooks/utils/json_processing.ipynb\u001b[0m in \u001b[0;36m_get_xnd_type_item\u001b[0;34m(k, item)\u001b[0m\n\u001b[1;32m    385\u001b[0m     \u001b[0;34m\"    if item['value_type'] is dict:\\n\"\u001b[0m\u001b[0;34m,\u001b[0m\u001b[0;34m\u001b[0m\u001b[0m\n\u001b[1;32m    386\u001b[0m     \u001b[0;34m\"        if isinstance(item['value'], dict):\\n\"\u001b[0m\u001b[0;34m,\u001b[0m\u001b[0;34m\u001b[0m\u001b[0m\n\u001b[0;32m--> 387\u001b[0;31m     \u001b[0;34m\"            _xnd_item_value = get_xnd_type(item['value'])\\n\"\u001b[0m\u001b[0;34m,\u001b[0m\u001b[0;34m\u001b[0m\u001b[0m\n\u001b[0m\u001b[1;32m    388\u001b[0m     \u001b[0;34m\"        else:\\n\"\u001b[0m\u001b[0;34m,\u001b[0m\u001b[0;34m\u001b[0m\u001b[0m\n\u001b[1;32m    389\u001b[0m     \u001b[0;34m\"            _xnd_item_value = item['value'].__name__\\n\"\u001b[0m\u001b[0;34m,\u001b[0m\u001b[0;34m\u001b[0m\u001b[0m\n",
      "\u001b[0;32m/mnt/sda1/dev/quansight/xnd-notebooks/utils/json_processing.ipynb\u001b[0m in \u001b[0;36mget_xnd_type\u001b[0;34m(meta)\u001b[0m\n\u001b[1;32m    412\u001b[0m     \u001b[0;34m\"        _xnd_type_template = '{{{}}}'\\n\"\u001b[0m\u001b[0;34m,\u001b[0m\u001b[0;34m\u001b[0m\u001b[0m\n\u001b[1;32m    413\u001b[0m     \u001b[0;34m\"        for k, item in meta.items():\\n\"\u001b[0m\u001b[0;34m,\u001b[0m\u001b[0;34m\u001b[0m\u001b[0m\n\u001b[0;32m--> 414\u001b[0;31m     \u001b[0;34m\"            _xnd_type_value.extend(_get_xnd_type_item(k, item))\\n\"\u001b[0m\u001b[0;34m,\u001b[0m\u001b[0;34m\u001b[0m\u001b[0m\n\u001b[0m\u001b[1;32m    415\u001b[0m     \u001b[0;34m\"    else:\\n\"\u001b[0m\u001b[0;34m,\u001b[0m\u001b[0;34m\u001b[0m\u001b[0m\n\u001b[1;32m    416\u001b[0m     \u001b[0;34m\"        _xnd_type_template = '{}'\\n\"\u001b[0m\u001b[0;34m,\u001b[0m\u001b[0;34m\u001b[0m\u001b[0m\n",
      "\u001b[0;32m/mnt/sda1/dev/quansight/xnd-notebooks/utils/json_processing.ipynb\u001b[0m in \u001b[0;36m_get_xnd_type_item\u001b[0;34m(k, item)\u001b[0m\n\u001b[1;32m    394\u001b[0m     \u001b[0;34m\"            _xnd_item_value = get_xnd_type(item['value'])\\n\"\u001b[0m\u001b[0;34m,\u001b[0m\u001b[0;34m\u001b[0m\u001b[0m\n\u001b[1;32m    395\u001b[0m     \u001b[0;34m\"        else:\\n\"\u001b[0m\u001b[0;34m,\u001b[0m\u001b[0;34m\u001b[0m\u001b[0m\n\u001b[0;32m--> 396\u001b[0;31m     \u001b[0;34m\"            _xnd_item_value = map_type(item['value'].__name__)\\n\"\u001b[0m\u001b[0;34m,\u001b[0m\u001b[0;34m\u001b[0m\u001b[0m\n\u001b[0m\u001b[1;32m    397\u001b[0m     \u001b[0;34m\"        _xnd_item_template = '{}{}{}{{}}'.format(k_str, count_str, nullable_str)\\n\"\u001b[0m\u001b[0;34m,\u001b[0m\u001b[0;34m\u001b[0m\u001b[0m\n\u001b[1;32m    398\u001b[0m     \u001b[0;34m\"    else:\\n\"\u001b[0m\u001b[0;34m,\u001b[0m\u001b[0;34m\u001b[0m\u001b[0m\n",
      "\u001b[0;31mKeyError\u001b[0m: 'value'"
     ]
    }
   ],
   "source": [
    "xnd_type = get_xnd_type(meta)\n",
    "print(xnd_type.replace(',', ',\\n'))"
   ]
  },
  {
   "cell_type": "code",
   "execution_count": null,
   "metadata": {},
   "outputs": [],
   "source": [
    "data_norm = json_normalize(data)"
   ]
  },
  {
   "cell_type": "code",
   "execution_count": null,
   "metadata": {},
   "outputs": [],
   "source": [
    "G = gen_graph(data_norm)"
   ]
  },
  {
   "cell_type": "code",
   "execution_count": null,
   "metadata": {},
   "outputs": [],
   "source": [
    "plt.figure(figsize=(10, 15))\n",
    "nx.draw(\n",
    "    G, with_labels=True, node_color=\"#dfdfdf\", font_size=10,  \n",
    "    pos=nx.spring_layout(G, scale=.5, k=0.5)\n",
    ")"
   ]
  },
  {
   "cell_type": "code",
   "execution_count": null,
   "metadata": {},
   "outputs": [],
   "source": [
    "xnd(data_norm, type=xnd_type)"
   ]
  },
  {
   "cell_type": "code",
   "execution_count": null,
   "metadata": {},
   "outputs": [],
   "source": [
    "%load_ext version_information\n",
    "%version_information xnd, importnb, matplotlib"
   ]
  }
 ],
 "metadata": {
  "kernelspec": {
   "display_name": "Python 3",
   "language": "python",
   "name": "python3"
  },
  "language_info": {
   "codemirror_mode": {
    "name": "ipython",
    "version": 3
   },
   "file_extension": ".py",
   "mimetype": "text/x-python",
   "name": "python",
   "nbconvert_exporter": "python",
   "pygments_lexer": "ipython3",
   "version": "3.6.0"
  }
 },
 "nbformat": 4,
 "nbformat_minor": 2
}
