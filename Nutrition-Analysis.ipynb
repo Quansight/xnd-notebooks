{
 "cells": [
  {
   "cell_type": "markdown",
   "metadata": {},
   "source": [
    "# Nutrition, Physical Activity, and Obesity - Behavioral Risk Factor Surveillance System\n",
    "\n",
    "The data used here is from Data.gov, managed and hosted by the U.S. General Services Administration, Technology Transformation Service (https://catalog.data.gov)\n",
    "\n",
    "The dataset includes data on adult's diet, physical activity, and weight status from Behavioral Risk Factor Surveillance System. This data is used for DNPAO's Data, ..."
   ]
  },
  {
   "cell_type": "markdown",
   "metadata": {},
   "source": [
    "## Setup\n",
    "\n",
    "First we need to import the some libraries"
   ]
  },
  {
   "cell_type": "code",
   "execution_count": 1,
   "metadata": {},
   "outputs": [],
   "source": [
    "from copy import deepcopy\n",
    "import json\n",
    "import sys\n",
    "\n",
    "from IPython.display import display\n",
    "import matplotlib as mpl\n",
    "import matplotlib.pyplot as plt\n",
    "import networkx as nx\n",
    "\n",
    "import urllib.request\n",
    "from xnd import xnd"
   ]
  },
  {
   "cell_type": "code",
   "execution_count": 2,
   "metadata": {},
   "outputs": [],
   "source": [
    "def walk(G, node):\n",
    "    if isinstance(node, dict):\n",
    "        for key, item in node.items():\n",
    "            if isinstance(item, dict):\n",
    "                for j in item.keys():\n",
    "                    G.add_edge(key, j)\n",
    "                walk(G, item)\n",
    "    if isinstance(node, list):\n",
    "        walk(G, node[0])\n",
    "    return\n",
    "            \n",
    "def gen_graph(data):\n",
    "    G = nx.Graph()\n",
    "    \n",
    "    for key in data.keys():\n",
    "        G.add_edge('ROOT', key)\n",
    "\n",
    "    walk(G, data)\n",
    "    \n",
    "    return G"
   ]
  },
  {
   "cell_type": "code",
   "execution_count": 3,
   "metadata": {},
   "outputs": [],
   "source": [
    "def get_key_value(item):\n",
    "    if isinstance(item, dict):\n",
    "        return item.items()\n",
    "    elif isinstance(item, list):\n",
    "        return enumerate(item)\n",
    "    return ()"
   ]
  },
  {
   "cell_type": "code",
   "execution_count": 4,
   "metadata": {},
   "outputs": [],
   "source": [
    "def highest_value_type(values):\n",
    "    \"\"\"\n",
    "    TODO: implement a way to treat \"type weight\"\n",
    "    \n",
    "    values: list\n",
    "    returns: type\n",
    "    \"\"\"\n",
    "    _types = {type(v) for v in values if v is not None}\n",
    "    \n",
    "    if not _types:\n",
    "        return None\n",
    "    return _types.pop()\n",
    "\n",
    "# highest_value_type([1,3,4,5, None])"
   ]
  },
  {
   "cell_type": "code",
   "execution_count": 5,
   "metadata": {},
   "outputs": [],
   "source": [
    "def highest_type(values):\n",
    "    \"\"\"\n",
    "    TODO: implement a way to treat \"type weight\"\n",
    "    \n",
    "    values: list\n",
    "    returns: type\n",
    "    \"\"\"\n",
    "    _types = {v for v in values if v is not type(None)}\n",
    "    \n",
    "    if not _types:\n",
    "        return type(None)\n",
    "    return _types.pop()\n",
    "\n",
    "# highest_type([int, int ,int , str, type(None)])    "
   ]
  },
  {
   "cell_type": "code",
   "execution_count": 6,
   "metadata": {},
   "outputs": [],
   "source": [
    "def apply_nullable_on_children(parent):\n",
    "    if isinstance(parent, dict): \n",
    "        for k, child in parent.items():\n",
    "            child['nullable'] = True\n",
    "            if 'value' in child:\n",
    "                apply_nullable_on_children(child['value'])\n",
    "    return parent\n",
    "\n",
    "\"\"\"                 \n",
    "apply_nullable_on_children({'tree': {'value_type': dict,\n",
    "  'nullable': False,\n",
    "  'value': {'leaf1': {'value_type': list,\n",
    "    'nullable': False,\n",
    "    'count': 2,\n",
    "    'value': int},\n",
    "   'leaf2': {'value_type': list,\n",
    "    'nullable': False,\n",
    "    'count': 2,\n",
    "    'value': int}}},\n",
    " 'cars': {'value_type': list,\n",
    "  'nullable': False,\n",
    "  'count': 3,\n",
    "  'value': {'model': {'nullable': False, 'value_type': str},\n",
    "   'color': {'nullable': False, 'value_type': str},\n",
    "   'year': {'nullable': False, 'value_type': int},\n",
    "   'ports': {'nullable': False,\n",
    "    'value_type': dict,\n",
    "    'value': {'numbers': {'value_type': int, 'nullable': False}}}}}})\n",
    "\"\"\";"
   ]
  },
  {
   "cell_type": "code",
   "execution_count": 7,
   "metadata": {},
   "outputs": [],
   "source": [
    "def json_cleaning(data):\n",
    "    data = deepcopy(data)\n",
    "    if isinstance(data, dict):\n",
    "        for k in list(data.keys()):\n",
    "            k_new = k.replace(' ', '_')\n",
    "            \n",
    "            if k != k_new:\n",
    "                data[k_new] = data.pop(k)\n",
    "            \n",
    "            k = k_new\n",
    "            if isinstance(data[k], (dict, list)):\n",
    "                data[k] = json_cleaning(data[k])\n",
    "                \n",
    "    if isinstance(data, list):\n",
    "        for i, v in enumerate(data):\n",
    "            if isinstance(v, (dict, list)):\n",
    "                data[i] = json_cleaning(data[i])\n",
    "    return data\n",
    "\n",
    "# json_cleaning({'k b': 2, 'a w': {'bla bla': 2, 'x x': [1, 2, {'asdf asdf ': 1}]}})"
   ]
  },
  {
   "cell_type": "code",
   "execution_count": 8,
   "metadata": {},
   "outputs": [],
   "source": [
    "def json_meta_type(data, parent_nullable=False):\n",
    "    \"\"\"The function should return a json with all meta data normalized.\"\"\"\n",
    "    meta = {}\n",
    "\n",
    "    for k, item in get_key_value(data):\n",
    "        meta[k] = {'value_type': item.__class__}\n",
    "        meta_k = meta[k]  # alias\n",
    "        \n",
    "        if meta_k['value_type'] is type(None) or parent_nullable:\n",
    "            meta_k['nullable'] = True\n",
    "        else:\n",
    "            meta_k['nullable'] = False\n",
    "        \n",
    "        if isinstance(item, dict):\n",
    "            meta_k['value'] = json_meta_type(item, meta_k['nullable'])\n",
    "        elif isinstance(item, list):\n",
    "            meta_k['count'] = len(item)\n",
    "            _value_highest_type = highest_value_type(item)\n",
    "            \n",
    "            if _value_highest_type is dict:\n",
    "                meta_k['value'] = {}\n",
    "                meta_k_value = meta_k['value']  # alias\n",
    "                # first_iter and columns are used to find nullable fields\n",
    "                first_iter = True\n",
    "                columns = set()\n",
    "            \n",
    "            for v in item:\n",
    "                if _value_highest_type != type(v):\n",
    "                    raise Exception('All items from the list should be the same type.')\n",
    "                    \n",
    "                if isinstance(v, dict):\n",
    "                    children_value = json_meta_type(v, meta_k['nullable'])\n",
    "                    children_keys = v.keys()\n",
    "                    \n",
    "                    for _k, _v in children_value.items():\n",
    "                        if parent_nullable or (not first_iter and _k not in columns):\n",
    "                            nullable = True\n",
    "                        else:\n",
    "                            nullable = False\n",
    "                            \n",
    "                        if (\n",
    "                            _k not in meta_k_value or \n",
    "                            not _v['value_type'] is type(None)\n",
    "                        ):\n",
    "                            if _k not in meta_k_value:\n",
    "                                meta_k_value[_k] = {\n",
    "                                    'nullable': False,\n",
    "                                    'value_type': type(None)\n",
    "                                }\n",
    "                            _nullable = meta_k_value[_k]['nullable']\n",
    "                            _v['value_type'] = highest_type([meta_k_value[_k]['value_type'], _v['value_type']])\n",
    "                            meta_k_value[_k].update(_v)\n",
    "                            meta_k_value[_k].update({'nullable': meta_k_value[_k]['nullable'] | _nullable})\n",
    "                            \n",
    "                        if _v['value_type'] is type(None) or nullable:\n",
    "                            meta_k_value[_k]['nullable'] = True\n",
    "                            if 'value' in meta_k_value[_k] and isinstance(meta_k_value[_k], dict):\n",
    "                                apply_nullable_on_children(meta_k_value[_k]['value'])\n",
    "\n",
    "                    for c in columns:\n",
    "                        if parent_nullable or c not in children_keys:\n",
    "                            meta_k_value[c]['nullable'] = True\n",
    "                            if 'value' in meta_k_value[_k] and isinstance(meta_k_value[_k], dict):\n",
    "                                apply_nullable_on_children(meta_k_value[_k]['value'])\n",
    "                    \n",
    "                    columns |= set(children_keys)\n",
    "                            \n",
    "                first_iter = False\n",
    "                    \n",
    "            if 'value' not in meta_k:\n",
    "                meta_k['value'] = _value_highest_type\n",
    "    return meta\n",
    "# json_meta_type(test_data)"
   ]
  },
  {
   "cell_type": "code",
   "execution_count": 9,
   "metadata": {},
   "outputs": [],
   "source": [
    "def map_type(python_type):\n",
    "    types = {\n",
    "        'str': 'string',\n",
    "        'int': 'int64'\n",
    "    }\n",
    "    \n",
    "    if python_type in types:\n",
    "        return types[python_type]\n",
    "    else:\n",
    "        return python_type"
   ]
  },
  {
   "cell_type": "code",
   "execution_count": 10,
   "metadata": {},
   "outputs": [],
   "source": [
    "def get_xnd_type(json_meta):\n",
    "    _xnd_type_value = []\n",
    "    \n",
    "    if isinstance(json_meta, dict):\n",
    "        _xnd_type_template = '{{{}}}'\n",
    "    elif isinstance(json_meta, list):\n",
    "        _xnd_type_template = '[{}]'\n",
    "    else:\n",
    "        _xnd_type_template = '{}'\n",
    "    \n",
    "    for k, item in get_key_value(json_meta):\n",
    "        nullable_str = '?' if 'nullable' in item and item['nullable'] else ''\n",
    "        \n",
    "        if item['value_type'] is dict:\n",
    "            if isinstance(item['value'], dict):\n",
    "                _xnd_item_value = get_xnd_type(item['value'])\n",
    "            else:\n",
    "                _xnd_item_value = item['value'].__name__\n",
    "            _xnd_item_template = '{}: {}{{}}'.format(k, nullable_str)\n",
    "            \n",
    "        elif item['value_type'] is list:\n",
    "            if isinstance(item['value'], dict):\n",
    "                _xnd_item_value = get_xnd_type(item['value'])\n",
    "            else:\n",
    "                _xnd_item_value = map_type(item['value'].__name__)\n",
    "            _xnd_item_template = '{}: {} * {}{{}}'.format(k, item['count'], nullable_str)\n",
    "        else:\n",
    "            _xnd_item_value = map_type(item['value_type'].__name__)\n",
    "            _xnd_item_template = '{}: {}{{}}'.format(k, nullable_str)\n",
    "        \n",
    "        _xnd_type_value.append(_xnd_item_template.format(_xnd_item_value))\n",
    "    return _xnd_type_template.format(', '.join(_xnd_type_value))"
   ]
  },
  {
   "cell_type": "code",
   "execution_count": 11,
   "metadata": {},
   "outputs": [],
   "source": [
    "def normalize_json(data, meta=None):\n",
    "    data = deepcopy(data)\n",
    "    \n",
    "    if meta is None:\n",
    "        meta = json_meta_type(data)\n",
    "    \n",
    "    if isinstance(meta, dict):\n",
    "        for k_meta, item_meta in meta.items():\n",
    "            if isinstance(item_meta, dict):\n",
    "                if 'value_type' not in item_meta:\n",
    "                    for k, v in item_meta.items():\n",
    "                        if k not in data:\n",
    "                            data[k] = None\n",
    "                elif item_meta['value_type'] is dict:\n",
    "                    if k_meta not in data:\n",
    "                        data[k_meta] = None\n",
    "                elif item_meta['value_type'] is list:\n",
    "                    for k_data, item_data in get_key_value(data[k_meta]):\n",
    "                        if isinstance(item_data, dict):\n",
    "                            data[k_meta][k_data].update(normalize_json(item_data, item_meta))\n",
    "    return data"
   ]
  },
  {
   "cell_type": "code",
   "execution_count": 12,
   "metadata": {},
   "outputs": [],
   "source": [
    "test_data = {\n",
    "    'tree': {\n",
    "        'leaf1': [1, 2],\n",
    "        'leaf2': [2, 4]}, \n",
    "    'cars': [\n",
    "        {'model': 'model1', 'year': 2010, 'ports': None},\n",
    "        {'model': 'model2', 'color': 'blue'},\n",
    "        {'ports': {'numbers': 4}}\n",
    "    ]\n",
    "}"
   ]
  },
  {
   "cell_type": "code",
   "execution_count": 13,
   "metadata": {},
   "outputs": [],
   "source": [
    "new_test_data = json_cleaning(test_data)"
   ]
  },
  {
   "cell_type": "code",
   "execution_count": 14,
   "metadata": {},
   "outputs": [
    {
     "data": {
      "text/plain": [
       "{'tree': {'value_type': dict,\n",
       "  'nullable': False,\n",
       "  'value': {'leaf1': {'value_type': list,\n",
       "    'nullable': False,\n",
       "    'count': 2,\n",
       "    'value': int},\n",
       "   'leaf2': {'value_type': list,\n",
       "    'nullable': False,\n",
       "    'count': 2,\n",
       "    'value': int}}},\n",
       " 'cars': {'value_type': list,\n",
       "  'nullable': False,\n",
       "  'count': 3,\n",
       "  'value': {'model': {'nullable': True, 'value_type': str},\n",
       "   'year': {'nullable': True, 'value_type': int},\n",
       "   'ports': {'nullable': True,\n",
       "    'value_type': dict,\n",
       "    'value': {'numbers': {'value_type': int, 'nullable': True}}},\n",
       "   'color': {'nullable': True, 'value_type': str}}}}"
      ]
     },
     "execution_count": 14,
     "metadata": {},
     "output_type": "execute_result"
    }
   ],
   "source": [
    "meta_type = json_meta_type(new_test_data)\n",
    "meta_type"
   ]
  },
  {
   "cell_type": "code",
   "execution_count": 15,
   "metadata": {},
   "outputs": [
    {
     "data": {
      "text/plain": [
       "'{tree: {leaf1: 2 * int64, leaf2: 2 * int64}, cars: 3 * {model: ?string, year: ?int64, ports: ?{numbers: ?int64}, color: ?string}}'"
      ]
     },
     "execution_count": 15,
     "metadata": {},
     "output_type": "execute_result"
    }
   ],
   "source": [
    "test_type = get_xnd_type(meta_type)\n",
    "test_type"
   ]
  },
  {
   "cell_type": "code",
   "execution_count": 16,
   "metadata": {},
   "outputs": [
    {
     "data": {
      "text/plain": [
       "xnd({'tree': {'leaf1': [1, 2], 'leaf2': [2, 4]},\n",
       "     'cars': [{'model': 'model1', 'year': 2010, 'ports': None, 'color': None},\n",
       "      {'model': 'model2', 'year': None, 'ports': None, 'color': 'blue'},\n",
       "      {'model': None, 'year': None, 'ports': {'numbers': 4}, 'color': None}]},\n",
       "    type='{tree : {leaf1 : 2 * int64, leaf2 : 2 * int64}, cars : 3 * {model : ?string, year : ?int64, ports : ?{numbers : ?int64}, color : ?string}}')"
      ]
     },
     "execution_count": 16,
     "metadata": {},
     "output_type": "execute_result"
    }
   ],
   "source": [
    "xnd(normalize_json(test_data), type=test_type)"
   ]
  },
  {
   "cell_type": "markdown",
   "metadata": {},
   "source": [
    "## Loading Data\n",
    "\n",
    "The data for this tutorial could be downloaded at https://chronicdata.cdc.gov/views/hn4x-zwk7/rows.json?accessType=DOWNLOAD\n",
    "\n",
    "We already have this data at `data/data-gov-nutrition.json`"
   ]
  },
  {
   "cell_type": "code",
   "execution_count": 17,
   "metadata": {},
   "outputs": [],
   "source": [
    "with open('data/data-gov-nutrition.json') as f:\n",
    "    data = json_cleaning(json.load(f))"
   ]
  },
  {
   "cell_type": "code",
   "execution_count": 18,
   "metadata": {},
   "outputs": [
    {
     "name": "stdout",
     "output_type": "stream",
     "text": [
      "{'meta': {'view': {'id': 'hn4x-zwk7',\n",
      "'name': 'Nutrition,\n",
      "Physical Activity,\n",
      "and Obesity - Behavioral Risk Factor Surveillance System',\n",
      "'attribution': 'Centers for Disease Control and Prevention (CDC),\n",
      "National Center for Chronic Disease Prevention and Health Promotion,\n",
      "Division of Nutrition,\n",
      "Physical Activity,\n",
      "and Obesity',\n",
      "'attributionLink': 'http://www.cdc.gov/nccdphp/DNPAO/index.html',\n",
      "'averageRating': 0,\n",
      "'category': 'Nutrition,\n",
      "Physical Activity,\n",
      "and Obesity',\n",
      "'createdAt': 1469123618,\n",
      "'desc...\n"
     ]
    }
   ],
   "source": [
    "str_summary = str(data)[:500] + '...'\n",
    "print(str_summary.replace(', ', ',\\n'))"
   ]
  },
  {
   "cell_type": "code",
   "execution_count": 19,
   "metadata": {},
   "outputs": [
    {
     "data": {
      "text/plain": [
       "ValueError('dtype mismatch: have {id: int64, name: string, dataTypeName: string, fieldName: string, position: int64, renderTypeName: string, format: {}, flags: 1 * string} and {id: int64, name: string, dataTypeName: string, description: string, fieldName: string, position: int64, renderTypeName: string, tableColumnId: int64, width: int64, cachedContents: {largest: string, non_null: int64, average: string, null: int64, top: 6 * {item: string, count: int64}, smallest: string, sum: string}, format: {precisionStyle: string, noCommas: string, align: string}}')"
      ]
     },
     "metadata": {},
     "output_type": "display_data"
    }
   ],
   "source": [
    "try:\n",
    "    xnd(data)\n",
    "except Exception as e:\n",
    "    display(e)"
   ]
  },
  {
   "cell_type": "code",
   "execution_count": 20,
   "metadata": {},
   "outputs": [
    {
     "ename": "ValueError",
     "evalue": "dtype mismatch: have {id: int64, name: string, dataTypeName: string, fieldName: string, position: int64, renderTypeName: string, format: {}, flags: 1 * string} and {id: int64, name: string, dataTypeName: string, description: string, fieldName: string, position: int64, renderTypeName: string, tableColumnId: int64, width: int64, cachedContents: {largest: string, non_null: int64, average: string, null: int64, top: 6 * {item: string, count: int64}, smallest: string, sum: string}, format: {precisionStyle: string, noCommas: string, align: string}}",
     "output_type": "error",
     "traceback": [
      "\u001b[0;31m---------------------------------------------------------------------------\u001b[0m",
      "\u001b[0;31mValueError\u001b[0m                                Traceback (most recent call last)",
      "\u001b[0;32m<ipython-input-20-d89a644bb832>\u001b[0m in \u001b[0;36m<module>\u001b[0;34m()\u001b[0m\n\u001b[1;32m      2\u001b[0m \u001b[0mxnd_type\u001b[0m \u001b[0;34m=\u001b[0m \u001b[0mget_xnd_type\u001b[0m\u001b[0;34m(\u001b[0m\u001b[0mmeta\u001b[0m\u001b[0;34m)\u001b[0m\u001b[0;34m\u001b[0m\u001b[0m\n\u001b[1;32m      3\u001b[0m \u001b[0mnew_data\u001b[0m \u001b[0;34m=\u001b[0m \u001b[0mnormalize_json\u001b[0m\u001b[0;34m(\u001b[0m\u001b[0mdata\u001b[0m\u001b[0;34m)\u001b[0m\u001b[0;34m\u001b[0m\u001b[0m\n\u001b[0;32m----> 4\u001b[0;31m \u001b[0mxnd\u001b[0m\u001b[0;34m(\u001b[0m\u001b[0mnew_data\u001b[0m\u001b[0;34m)\u001b[0m\u001b[0;34m\u001b[0m\u001b[0m\n\u001b[0m",
      "\u001b[0;32m~/miniconda3/envs/xnd-notebooks/lib/python3.6/site-packages/xnd/__init__.py\u001b[0m in \u001b[0;36m__new__\u001b[0;34m(cls, value, type, dtype, levels, typedef, dtypedef)\u001b[0m\n\u001b[1;32m    124\u001b[0m             \u001b[0mtype\u001b[0m \u001b[0;34m=\u001b[0m \u001b[0mtypeof\u001b[0m\u001b[0;34m(\u001b[0m\u001b[0mvalue\u001b[0m\u001b[0;34m,\u001b[0m \u001b[0mdtype\u001b[0m\u001b[0;34m=\u001b[0m\u001b[0mdtype\u001b[0m\u001b[0;34m)\u001b[0m\u001b[0;34m\u001b[0m\u001b[0m\n\u001b[1;32m    125\u001b[0m         \u001b[0;32melse\u001b[0m\u001b[0;34m:\u001b[0m\u001b[0;34m\u001b[0m\u001b[0m\n\u001b[0;32m--> 126\u001b[0;31m             \u001b[0mtype\u001b[0m \u001b[0;34m=\u001b[0m \u001b[0mtypeof\u001b[0m\u001b[0;34m(\u001b[0m\u001b[0mvalue\u001b[0m\u001b[0;34m)\u001b[0m\u001b[0;34m\u001b[0m\u001b[0m\n\u001b[0m\u001b[1;32m    127\u001b[0m         \u001b[0;32mreturn\u001b[0m \u001b[0msuper\u001b[0m\u001b[0;34m(\u001b[0m\u001b[0;34m)\u001b[0m\u001b[0;34m.\u001b[0m\u001b[0m__new__\u001b[0m\u001b[0;34m(\u001b[0m\u001b[0mcls\u001b[0m\u001b[0;34m,\u001b[0m \u001b[0mtype\u001b[0m\u001b[0;34m=\u001b[0m\u001b[0mtype\u001b[0m\u001b[0;34m,\u001b[0m \u001b[0mvalue\u001b[0m\u001b[0;34m=\u001b[0m\u001b[0mvalue\u001b[0m\u001b[0;34m)\u001b[0m\u001b[0;34m\u001b[0m\u001b[0m\n\u001b[1;32m    128\u001b[0m \u001b[0;34m\u001b[0m\u001b[0m\n",
      "\u001b[0;32m~/miniconda3/envs/xnd-notebooks/lib/python3.6/site-packages/xnd/__init__.py\u001b[0m in \u001b[0;36mtypeof\u001b[0;34m(value, dtype)\u001b[0m\n\u001b[1;32m    141\u001b[0m \u001b[0;34m\u001b[0m\u001b[0m\n\u001b[1;32m    142\u001b[0m \u001b[0;32mdef\u001b[0m \u001b[0mtypeof\u001b[0m\u001b[0;34m(\u001b[0m\u001b[0mvalue\u001b[0m\u001b[0;34m,\u001b[0m \u001b[0;34m*\u001b[0m\u001b[0;34m,\u001b[0m \u001b[0mdtype\u001b[0m\u001b[0;34m=\u001b[0m\u001b[0;32mNone\u001b[0m\u001b[0;34m)\u001b[0m\u001b[0;34m:\u001b[0m\u001b[0;34m\u001b[0m\u001b[0m\n\u001b[0;32m--> 143\u001b[0;31m     \u001b[0;32mreturn\u001b[0m \u001b[0mndt\u001b[0m\u001b[0;34m(\u001b[0m\u001b[0m_typeof\u001b[0m\u001b[0;34m(\u001b[0m\u001b[0mvalue\u001b[0m\u001b[0;34m,\u001b[0m \u001b[0mdtype\u001b[0m\u001b[0;34m=\u001b[0m\u001b[0mdtype\u001b[0m\u001b[0;34m)\u001b[0m\u001b[0;34m)\u001b[0m\u001b[0;34m\u001b[0m\u001b[0m\n\u001b[0m\u001b[1;32m    144\u001b[0m \u001b[0;34m\u001b[0m\u001b[0m\n\u001b[1;32m    145\u001b[0m \u001b[0;32mdef\u001b[0m \u001b[0m_choose_dtype\u001b[0m\u001b[0;34m(\u001b[0m\u001b[0mlst\u001b[0m\u001b[0;34m)\u001b[0m\u001b[0;34m:\u001b[0m\u001b[0;34m\u001b[0m\u001b[0m\n",
      "\u001b[0;32m~/miniconda3/envs/xnd-notebooks/lib/python3.6/site-packages/xnd/__init__.py\u001b[0m in \u001b[0;36m_typeof\u001b[0;34m(value, dtype)\u001b[0m\n\u001b[1;32m    189\u001b[0m     \u001b[0;32melif\u001b[0m \u001b[0misinstance\u001b[0m\u001b[0;34m(\u001b[0m\u001b[0mvalue\u001b[0m\u001b[0;34m,\u001b[0m \u001b[0mdict\u001b[0m\u001b[0;34m)\u001b[0m\u001b[0;34m:\u001b[0m\u001b[0;34m\u001b[0m\u001b[0m\n\u001b[1;32m    190\u001b[0m         \u001b[0;32mif\u001b[0m \u001b[0mall\u001b[0m\u001b[0;34m(\u001b[0m\u001b[0misinstance\u001b[0m\u001b[0;34m(\u001b[0m\u001b[0mk\u001b[0m\u001b[0;34m,\u001b[0m \u001b[0mstr\u001b[0m\u001b[0;34m)\u001b[0m \u001b[0;32mfor\u001b[0m \u001b[0mk\u001b[0m \u001b[0;32min\u001b[0m \u001b[0mvalue\u001b[0m\u001b[0;34m)\u001b[0m\u001b[0;34m:\u001b[0m\u001b[0;34m\u001b[0m\u001b[0m\n\u001b[0;32m--> 191\u001b[0;31m             \u001b[0;32mreturn\u001b[0m \u001b[0;34m\"{\"\u001b[0m \u001b[0;34m+\u001b[0m \u001b[0;34m\", \"\u001b[0m\u001b[0;34m.\u001b[0m\u001b[0mjoin\u001b[0m\u001b[0;34m(\u001b[0m\u001b[0;34m[\u001b[0m\u001b[0;34m\"%s: %s\"\u001b[0m \u001b[0;34m%\u001b[0m \u001b[0;34m(\u001b[0m\u001b[0mk\u001b[0m\u001b[0;34m,\u001b[0m \u001b[0m_typeof\u001b[0m\u001b[0;34m(\u001b[0m\u001b[0mv\u001b[0m\u001b[0;34m)\u001b[0m\u001b[0;34m)\u001b[0m \u001b[0;32mfor\u001b[0m \u001b[0mk\u001b[0m\u001b[0;34m,\u001b[0m \u001b[0mv\u001b[0m \u001b[0;32min\u001b[0m \u001b[0mvalue\u001b[0m\u001b[0;34m.\u001b[0m\u001b[0mitems\u001b[0m\u001b[0;34m(\u001b[0m\u001b[0;34m)\u001b[0m\u001b[0;34m]\u001b[0m\u001b[0;34m)\u001b[0m \u001b[0;34m+\u001b[0m \u001b[0;34m\"}\"\u001b[0m\u001b[0;34m\u001b[0m\u001b[0m\n\u001b[0m\u001b[1;32m    192\u001b[0m         \u001b[0;32mraise\u001b[0m \u001b[0mValueError\u001b[0m\u001b[0;34m(\u001b[0m\u001b[0;34m\"all dict keys must be strings\"\u001b[0m\u001b[0;34m)\u001b[0m\u001b[0;34m\u001b[0m\u001b[0m\n\u001b[1;32m    193\u001b[0m \u001b[0;34m\u001b[0m\u001b[0m\n",
      "\u001b[0;32m~/miniconda3/envs/xnd-notebooks/lib/python3.6/site-packages/xnd/__init__.py\u001b[0m in \u001b[0;36m<listcomp>\u001b[0;34m(.0)\u001b[0m\n\u001b[1;32m    189\u001b[0m     \u001b[0;32melif\u001b[0m \u001b[0misinstance\u001b[0m\u001b[0;34m(\u001b[0m\u001b[0mvalue\u001b[0m\u001b[0;34m,\u001b[0m \u001b[0mdict\u001b[0m\u001b[0;34m)\u001b[0m\u001b[0;34m:\u001b[0m\u001b[0;34m\u001b[0m\u001b[0m\n\u001b[1;32m    190\u001b[0m         \u001b[0;32mif\u001b[0m \u001b[0mall\u001b[0m\u001b[0;34m(\u001b[0m\u001b[0misinstance\u001b[0m\u001b[0;34m(\u001b[0m\u001b[0mk\u001b[0m\u001b[0;34m,\u001b[0m \u001b[0mstr\u001b[0m\u001b[0;34m)\u001b[0m \u001b[0;32mfor\u001b[0m \u001b[0mk\u001b[0m \u001b[0;32min\u001b[0m \u001b[0mvalue\u001b[0m\u001b[0;34m)\u001b[0m\u001b[0;34m:\u001b[0m\u001b[0;34m\u001b[0m\u001b[0m\n\u001b[0;32m--> 191\u001b[0;31m             \u001b[0;32mreturn\u001b[0m \u001b[0;34m\"{\"\u001b[0m \u001b[0;34m+\u001b[0m \u001b[0;34m\", \"\u001b[0m\u001b[0;34m.\u001b[0m\u001b[0mjoin\u001b[0m\u001b[0;34m(\u001b[0m\u001b[0;34m[\u001b[0m\u001b[0;34m\"%s: %s\"\u001b[0m \u001b[0;34m%\u001b[0m \u001b[0;34m(\u001b[0m\u001b[0mk\u001b[0m\u001b[0;34m,\u001b[0m \u001b[0m_typeof\u001b[0m\u001b[0;34m(\u001b[0m\u001b[0mv\u001b[0m\u001b[0;34m)\u001b[0m\u001b[0;34m)\u001b[0m \u001b[0;32mfor\u001b[0m \u001b[0mk\u001b[0m\u001b[0;34m,\u001b[0m \u001b[0mv\u001b[0m \u001b[0;32min\u001b[0m \u001b[0mvalue\u001b[0m\u001b[0;34m.\u001b[0m\u001b[0mitems\u001b[0m\u001b[0;34m(\u001b[0m\u001b[0;34m)\u001b[0m\u001b[0;34m]\u001b[0m\u001b[0;34m)\u001b[0m \u001b[0;34m+\u001b[0m \u001b[0;34m\"}\"\u001b[0m\u001b[0;34m\u001b[0m\u001b[0m\n\u001b[0m\u001b[1;32m    192\u001b[0m         \u001b[0;32mraise\u001b[0m \u001b[0mValueError\u001b[0m\u001b[0;34m(\u001b[0m\u001b[0;34m\"all dict keys must be strings\"\u001b[0m\u001b[0;34m)\u001b[0m\u001b[0;34m\u001b[0m\u001b[0m\n\u001b[1;32m    193\u001b[0m \u001b[0;34m\u001b[0m\u001b[0m\n",
      "\u001b[0;32m~/miniconda3/envs/xnd-notebooks/lib/python3.6/site-packages/xnd/__init__.py\u001b[0m in \u001b[0;36m_typeof\u001b[0;34m(value, dtype)\u001b[0m\n\u001b[1;32m    189\u001b[0m     \u001b[0;32melif\u001b[0m \u001b[0misinstance\u001b[0m\u001b[0;34m(\u001b[0m\u001b[0mvalue\u001b[0m\u001b[0;34m,\u001b[0m \u001b[0mdict\u001b[0m\u001b[0;34m)\u001b[0m\u001b[0;34m:\u001b[0m\u001b[0;34m\u001b[0m\u001b[0m\n\u001b[1;32m    190\u001b[0m         \u001b[0;32mif\u001b[0m \u001b[0mall\u001b[0m\u001b[0;34m(\u001b[0m\u001b[0misinstance\u001b[0m\u001b[0;34m(\u001b[0m\u001b[0mk\u001b[0m\u001b[0;34m,\u001b[0m \u001b[0mstr\u001b[0m\u001b[0;34m)\u001b[0m \u001b[0;32mfor\u001b[0m \u001b[0mk\u001b[0m \u001b[0;32min\u001b[0m \u001b[0mvalue\u001b[0m\u001b[0;34m)\u001b[0m\u001b[0;34m:\u001b[0m\u001b[0;34m\u001b[0m\u001b[0m\n\u001b[0;32m--> 191\u001b[0;31m             \u001b[0;32mreturn\u001b[0m \u001b[0;34m\"{\"\u001b[0m \u001b[0;34m+\u001b[0m \u001b[0;34m\", \"\u001b[0m\u001b[0;34m.\u001b[0m\u001b[0mjoin\u001b[0m\u001b[0;34m(\u001b[0m\u001b[0;34m[\u001b[0m\u001b[0;34m\"%s: %s\"\u001b[0m \u001b[0;34m%\u001b[0m \u001b[0;34m(\u001b[0m\u001b[0mk\u001b[0m\u001b[0;34m,\u001b[0m \u001b[0m_typeof\u001b[0m\u001b[0;34m(\u001b[0m\u001b[0mv\u001b[0m\u001b[0;34m)\u001b[0m\u001b[0;34m)\u001b[0m \u001b[0;32mfor\u001b[0m \u001b[0mk\u001b[0m\u001b[0;34m,\u001b[0m \u001b[0mv\u001b[0m \u001b[0;32min\u001b[0m \u001b[0mvalue\u001b[0m\u001b[0;34m.\u001b[0m\u001b[0mitems\u001b[0m\u001b[0;34m(\u001b[0m\u001b[0;34m)\u001b[0m\u001b[0;34m]\u001b[0m\u001b[0;34m)\u001b[0m \u001b[0;34m+\u001b[0m \u001b[0;34m\"}\"\u001b[0m\u001b[0;34m\u001b[0m\u001b[0m\n\u001b[0m\u001b[1;32m    192\u001b[0m         \u001b[0;32mraise\u001b[0m \u001b[0mValueError\u001b[0m\u001b[0;34m(\u001b[0m\u001b[0;34m\"all dict keys must be strings\"\u001b[0m\u001b[0;34m)\u001b[0m\u001b[0;34m\u001b[0m\u001b[0m\n\u001b[1;32m    193\u001b[0m \u001b[0;34m\u001b[0m\u001b[0m\n",
      "\u001b[0;32m~/miniconda3/envs/xnd-notebooks/lib/python3.6/site-packages/xnd/__init__.py\u001b[0m in \u001b[0;36m<listcomp>\u001b[0;34m(.0)\u001b[0m\n\u001b[1;32m    189\u001b[0m     \u001b[0;32melif\u001b[0m \u001b[0misinstance\u001b[0m\u001b[0;34m(\u001b[0m\u001b[0mvalue\u001b[0m\u001b[0;34m,\u001b[0m \u001b[0mdict\u001b[0m\u001b[0;34m)\u001b[0m\u001b[0;34m:\u001b[0m\u001b[0;34m\u001b[0m\u001b[0m\n\u001b[1;32m    190\u001b[0m         \u001b[0;32mif\u001b[0m \u001b[0mall\u001b[0m\u001b[0;34m(\u001b[0m\u001b[0misinstance\u001b[0m\u001b[0;34m(\u001b[0m\u001b[0mk\u001b[0m\u001b[0;34m,\u001b[0m \u001b[0mstr\u001b[0m\u001b[0;34m)\u001b[0m \u001b[0;32mfor\u001b[0m \u001b[0mk\u001b[0m \u001b[0;32min\u001b[0m \u001b[0mvalue\u001b[0m\u001b[0;34m)\u001b[0m\u001b[0;34m:\u001b[0m\u001b[0;34m\u001b[0m\u001b[0m\n\u001b[0;32m--> 191\u001b[0;31m             \u001b[0;32mreturn\u001b[0m \u001b[0;34m\"{\"\u001b[0m \u001b[0;34m+\u001b[0m \u001b[0;34m\", \"\u001b[0m\u001b[0;34m.\u001b[0m\u001b[0mjoin\u001b[0m\u001b[0;34m(\u001b[0m\u001b[0;34m[\u001b[0m\u001b[0;34m\"%s: %s\"\u001b[0m \u001b[0;34m%\u001b[0m \u001b[0;34m(\u001b[0m\u001b[0mk\u001b[0m\u001b[0;34m,\u001b[0m \u001b[0m_typeof\u001b[0m\u001b[0;34m(\u001b[0m\u001b[0mv\u001b[0m\u001b[0;34m)\u001b[0m\u001b[0;34m)\u001b[0m \u001b[0;32mfor\u001b[0m \u001b[0mk\u001b[0m\u001b[0;34m,\u001b[0m \u001b[0mv\u001b[0m \u001b[0;32min\u001b[0m \u001b[0mvalue\u001b[0m\u001b[0;34m.\u001b[0m\u001b[0mitems\u001b[0m\u001b[0;34m(\u001b[0m\u001b[0;34m)\u001b[0m\u001b[0;34m]\u001b[0m\u001b[0;34m)\u001b[0m \u001b[0;34m+\u001b[0m \u001b[0;34m\"}\"\u001b[0m\u001b[0;34m\u001b[0m\u001b[0m\n\u001b[0m\u001b[1;32m    192\u001b[0m         \u001b[0;32mraise\u001b[0m \u001b[0mValueError\u001b[0m\u001b[0;34m(\u001b[0m\u001b[0;34m\"all dict keys must be strings\"\u001b[0m\u001b[0;34m)\u001b[0m\u001b[0;34m\u001b[0m\u001b[0m\n\u001b[1;32m    193\u001b[0m \u001b[0;34m\u001b[0m\u001b[0m\n",
      "\u001b[0;32m~/miniconda3/envs/xnd-notebooks/lib/python3.6/site-packages/xnd/__init__.py\u001b[0m in \u001b[0;36m_typeof\u001b[0;34m(value, dtype)\u001b[0m\n\u001b[1;32m    189\u001b[0m     \u001b[0;32melif\u001b[0m \u001b[0misinstance\u001b[0m\u001b[0;34m(\u001b[0m\u001b[0mvalue\u001b[0m\u001b[0;34m,\u001b[0m \u001b[0mdict\u001b[0m\u001b[0;34m)\u001b[0m\u001b[0;34m:\u001b[0m\u001b[0;34m\u001b[0m\u001b[0m\n\u001b[1;32m    190\u001b[0m         \u001b[0;32mif\u001b[0m \u001b[0mall\u001b[0m\u001b[0;34m(\u001b[0m\u001b[0misinstance\u001b[0m\u001b[0;34m(\u001b[0m\u001b[0mk\u001b[0m\u001b[0;34m,\u001b[0m \u001b[0mstr\u001b[0m\u001b[0;34m)\u001b[0m \u001b[0;32mfor\u001b[0m \u001b[0mk\u001b[0m \u001b[0;32min\u001b[0m \u001b[0mvalue\u001b[0m\u001b[0;34m)\u001b[0m\u001b[0;34m:\u001b[0m\u001b[0;34m\u001b[0m\u001b[0m\n\u001b[0;32m--> 191\u001b[0;31m             \u001b[0;32mreturn\u001b[0m \u001b[0;34m\"{\"\u001b[0m \u001b[0;34m+\u001b[0m \u001b[0;34m\", \"\u001b[0m\u001b[0;34m.\u001b[0m\u001b[0mjoin\u001b[0m\u001b[0;34m(\u001b[0m\u001b[0;34m[\u001b[0m\u001b[0;34m\"%s: %s\"\u001b[0m \u001b[0;34m%\u001b[0m \u001b[0;34m(\u001b[0m\u001b[0mk\u001b[0m\u001b[0;34m,\u001b[0m \u001b[0m_typeof\u001b[0m\u001b[0;34m(\u001b[0m\u001b[0mv\u001b[0m\u001b[0;34m)\u001b[0m\u001b[0;34m)\u001b[0m \u001b[0;32mfor\u001b[0m \u001b[0mk\u001b[0m\u001b[0;34m,\u001b[0m \u001b[0mv\u001b[0m \u001b[0;32min\u001b[0m \u001b[0mvalue\u001b[0m\u001b[0;34m.\u001b[0m\u001b[0mitems\u001b[0m\u001b[0;34m(\u001b[0m\u001b[0;34m)\u001b[0m\u001b[0;34m]\u001b[0m\u001b[0;34m)\u001b[0m \u001b[0;34m+\u001b[0m \u001b[0;34m\"}\"\u001b[0m\u001b[0;34m\u001b[0m\u001b[0m\n\u001b[0m\u001b[1;32m    192\u001b[0m         \u001b[0;32mraise\u001b[0m \u001b[0mValueError\u001b[0m\u001b[0;34m(\u001b[0m\u001b[0;34m\"all dict keys must be strings\"\u001b[0m\u001b[0;34m)\u001b[0m\u001b[0;34m\u001b[0m\u001b[0m\n\u001b[1;32m    193\u001b[0m \u001b[0;34m\u001b[0m\u001b[0m\n",
      "\u001b[0;32m~/miniconda3/envs/xnd-notebooks/lib/python3.6/site-packages/xnd/__init__.py\u001b[0m in \u001b[0;36m<listcomp>\u001b[0;34m(.0)\u001b[0m\n\u001b[1;32m    189\u001b[0m     \u001b[0;32melif\u001b[0m \u001b[0misinstance\u001b[0m\u001b[0;34m(\u001b[0m\u001b[0mvalue\u001b[0m\u001b[0;34m,\u001b[0m \u001b[0mdict\u001b[0m\u001b[0;34m)\u001b[0m\u001b[0;34m:\u001b[0m\u001b[0;34m\u001b[0m\u001b[0m\n\u001b[1;32m    190\u001b[0m         \u001b[0;32mif\u001b[0m \u001b[0mall\u001b[0m\u001b[0;34m(\u001b[0m\u001b[0misinstance\u001b[0m\u001b[0;34m(\u001b[0m\u001b[0mk\u001b[0m\u001b[0;34m,\u001b[0m \u001b[0mstr\u001b[0m\u001b[0;34m)\u001b[0m \u001b[0;32mfor\u001b[0m \u001b[0mk\u001b[0m \u001b[0;32min\u001b[0m \u001b[0mvalue\u001b[0m\u001b[0;34m)\u001b[0m\u001b[0;34m:\u001b[0m\u001b[0;34m\u001b[0m\u001b[0m\n\u001b[0;32m--> 191\u001b[0;31m             \u001b[0;32mreturn\u001b[0m \u001b[0;34m\"{\"\u001b[0m \u001b[0;34m+\u001b[0m \u001b[0;34m\", \"\u001b[0m\u001b[0;34m.\u001b[0m\u001b[0mjoin\u001b[0m\u001b[0;34m(\u001b[0m\u001b[0;34m[\u001b[0m\u001b[0;34m\"%s: %s\"\u001b[0m \u001b[0;34m%\u001b[0m \u001b[0;34m(\u001b[0m\u001b[0mk\u001b[0m\u001b[0;34m,\u001b[0m \u001b[0m_typeof\u001b[0m\u001b[0;34m(\u001b[0m\u001b[0mv\u001b[0m\u001b[0;34m)\u001b[0m\u001b[0;34m)\u001b[0m \u001b[0;32mfor\u001b[0m \u001b[0mk\u001b[0m\u001b[0;34m,\u001b[0m \u001b[0mv\u001b[0m \u001b[0;32min\u001b[0m \u001b[0mvalue\u001b[0m\u001b[0;34m.\u001b[0m\u001b[0mitems\u001b[0m\u001b[0;34m(\u001b[0m\u001b[0;34m)\u001b[0m\u001b[0;34m]\u001b[0m\u001b[0;34m)\u001b[0m \u001b[0;34m+\u001b[0m \u001b[0;34m\"}\"\u001b[0m\u001b[0;34m\u001b[0m\u001b[0m\n\u001b[0m\u001b[1;32m    192\u001b[0m         \u001b[0;32mraise\u001b[0m \u001b[0mValueError\u001b[0m\u001b[0;34m(\u001b[0m\u001b[0;34m\"all dict keys must be strings\"\u001b[0m\u001b[0;34m)\u001b[0m\u001b[0;34m\u001b[0m\u001b[0m\n\u001b[1;32m    193\u001b[0m \u001b[0;34m\u001b[0m\u001b[0m\n",
      "\u001b[0;32m~/miniconda3/envs/xnd-notebooks/lib/python3.6/site-packages/xnd/__init__.py\u001b[0m in \u001b[0;36m_typeof\u001b[0;34m(value, dtype)\u001b[0m\n\u001b[1;32m    167\u001b[0m                         \u001b[0mt\u001b[0m \u001b[0;34m=\u001b[0m \u001b[0m_typeof\u001b[0m\u001b[0;34m(\u001b[0m\u001b[0mx\u001b[0m\u001b[0;34m)\u001b[0m\u001b[0;34m\u001b[0m\u001b[0m\n\u001b[1;32m    168\u001b[0m                         \u001b[0;32mif\u001b[0m \u001b[0mt\u001b[0m \u001b[0;34m!=\u001b[0m \u001b[0mdtype\u001b[0m\u001b[0;34m:\u001b[0m\u001b[0;34m\u001b[0m\u001b[0m\n\u001b[0;32m--> 169\u001b[0;31m                             \u001b[0;32mraise\u001b[0m \u001b[0mValueError\u001b[0m\u001b[0;34m(\u001b[0m\u001b[0;34m\"dtype mismatch: have %s and %s\"\u001b[0m \u001b[0;34m%\u001b[0m \u001b[0;34m(\u001b[0m\u001b[0mdtype\u001b[0m\u001b[0;34m,\u001b[0m \u001b[0mt\u001b[0m\u001b[0;34m)\u001b[0m\u001b[0;34m)\u001b[0m\u001b[0;34m\u001b[0m\u001b[0m\n\u001b[0m\u001b[1;32m    170\u001b[0m \u001b[0;34m\u001b[0m\u001b[0m\n\u001b[1;32m    171\u001b[0m             \u001b[0;32mif\u001b[0m \u001b[0mopt\u001b[0m\u001b[0;34m:\u001b[0m\u001b[0;34m\u001b[0m\u001b[0m\n",
      "\u001b[0;31mValueError\u001b[0m: dtype mismatch: have {id: int64, name: string, dataTypeName: string, fieldName: string, position: int64, renderTypeName: string, format: {}, flags: 1 * string} and {id: int64, name: string, dataTypeName: string, description: string, fieldName: string, position: int64, renderTypeName: string, tableColumnId: int64, width: int64, cachedContents: {largest: string, non_null: int64, average: string, null: int64, top: 6 * {item: string, count: int64}, smallest: string, sum: string}, format: {precisionStyle: string, noCommas: string, align: string}}"
     ]
    }
   ],
   "source": [
    "meta = json_meta_type(data)\n",
    "xnd_type = get_xnd_type(meta)\n",
    "new_data = normalize_json(data)\n",
    "xnd(new_data)"
   ]
  },
  {
   "cell_type": "code",
   "execution_count": null,
   "metadata": {},
   "outputs": [],
   "source": [
    "G = gen_graph(new_data)"
   ]
  },
  {
   "cell_type": "code",
   "execution_count": null,
   "metadata": {},
   "outputs": [],
   "source": [
    "plt.figure(figsize=(10, 15))\n",
    "nx.draw(\n",
    "    G, with_labels=True, node_color=\"#dfdfdf\", font_size=10,  \n",
    "    pos=nx.spring_layout(G, scale=.5, k=0.5)\n",
    ")"
   ]
  },
  {
   "cell_type": "code",
   "execution_count": null,
   "metadata": {},
   "outputs": [],
   "source": [
    "xnd(new_data, type=xnd_type)"
   ]
  }
 ],
 "metadata": {
  "kernelspec": {
   "display_name": "Python 3",
   "language": "python",
   "name": "python3"
  },
  "language_info": {
   "codemirror_mode": {
    "name": "ipython",
    "version": 3
   },
   "file_extension": ".py",
   "mimetype": "text/x-python",
   "name": "python",
   "nbconvert_exporter": "python",
   "pygments_lexer": "ipython3",
   "version": "3.6.0"
  }
 },
 "nbformat": 4,
 "nbformat_minor": 2
}
