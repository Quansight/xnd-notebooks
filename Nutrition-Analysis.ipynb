{
 "cells": [
  {
   "cell_type": "markdown",
   "metadata": {},
   "source": [
    "# Nutrition, Physical Activity, and Obesity - Behavioral Risk Factor Surveillance System\n",
    "\n",
    "The data used here is from Data.gov, managed and hosted by the U.S. General Services Administration, Technology Transformation Service (https://catalog.data.gov)\n",
    "\n",
    "The dataset includes data on adult's diet, physical activity, and weight status from Behavioral Risk Factor Surveillance System. This data is used for DNPAO's Data, ..."
   ]
  },
  {
   "cell_type": "markdown",
   "metadata": {},
   "source": [
    "## Setup\n",
    "\n",
    "First we need to import the some libraries"
   ]
  },
  {
   "cell_type": "code",
   "execution_count": 1,
   "metadata": {},
   "outputs": [],
   "source": [
    "import json\n",
    "import sys\n",
    "\n",
    "import matplotlib as mpl\n",
    "import matplotlib.pyplot as plt\n",
    "import networkx as nx\n",
    "\n",
    "import urllib.request\n",
    "from xnd import xnd"
   ]
  },
  {
   "cell_type": "code",
   "execution_count": 2,
   "metadata": {},
   "outputs": [],
   "source": [
    "def get_key_value(item):\n",
    "    if isinstance(item, dict):\n",
    "        return item.items()\n",
    "    elif isinstance(item, list):\n",
    "        return enumerate(item)\n",
    "    return ()"
   ]
  },
  {
   "cell_type": "code",
   "execution_count": 3,
   "metadata": {},
   "outputs": [],
   "source": [
    "def test():\n",
    "    test_data = {\n",
    "        'tree': {\n",
    "            'leaf1': [1, 2],\n",
    "            'leaf2': [2, 4]}, \n",
    "        'cars': [\n",
    "            {'model': 'model1', 'color': 'red', 'year': 2010, 'ports': None},\n",
    "            {'model': 'model2', 'color': 'blue', 'year': None},\n",
    "            {'ports': {'numbers': 4}}\n",
    "        ]\n",
    "    }\n",
    "    return json_meta_type(test_data)"
   ]
  },
  {
   "cell_type": "code",
   "execution_count": 4,
   "metadata": {},
   "outputs": [
    {
     "data": {
      "text/plain": [
       "int"
      ]
     },
     "execution_count": 4,
     "metadata": {},
     "output_type": "execute_result"
    }
   ],
   "source": [
    "def highest_type(values):\n",
    "    \"\"\"\n",
    "    TODO: implement a way to treat \"type weight\"\n",
    "    \n",
    "    values: list\n",
    "    returns: type\n",
    "    \"\"\"\n",
    "    _types = {type(v) for v in values if v is not None}\n",
    "    return _types.pop()\n",
    "\n",
    "highest_type([1,3,4,5, None])    "
   ]
  },
  {
   "cell_type": "code",
   "execution_count": 15,
   "metadata": {},
   "outputs": [
    {
     "data": {
      "text/plain": [
       "{'tree': {'value_type': dict,\n",
       "  'value': {'leaf1': {'value_type': list, 'counts': 2, 'value': int},\n",
       "   'leaf2': {'value_type': list, 'counts': 2, 'value': int}}},\n",
       " 'cars': {'value_type': list,\n",
       "  'counts': 3,\n",
       "  'value': {'model': {'value_type': str},\n",
       "   'color': {'value_type': str},\n",
       "   'year': {'value_type': int, 'optional': True},\n",
       "   'ports': {'value_type': dict, 'value': {'numbers': {'value_type': int}}}}}}"
      ]
     },
     "execution_count": 15,
     "metadata": {},
     "output_type": "execute_result"
    }
   ],
   "source": [
    "def json_meta_type(data):\n",
    "    \"\"\"The function should return a json with all meta data normalized.\"\"\"\n",
    "    meta = {}\n",
    "\n",
    "    for k, item in get_key_value(data):\n",
    "        meta[k] = {'value_type': item.__class__}\n",
    "        meta_k = meta[k]  # alias\n",
    "        if meta_k['value_type'] is type(None):\n",
    "            meta_k['optional'] = True\n",
    "        \n",
    "        if isinstance(item, dict):\n",
    "            meta_k['value'] = json_meta_type(item)\n",
    "        elif isinstance(item, list):\n",
    "            meta_k['counts'] = len(item)\n",
    "            _value_highest_type = highest_type(item)\n",
    "            \n",
    "            if _value_highest_type is dict:\n",
    "                meta_k['value'] = {}\n",
    "                meta_k_value = meta_k['value']  # alias\n",
    "            \n",
    "            for v in item:\n",
    "                if _value_highest_type != type(v):\n",
    "                    raise Exception('All items from the list should be the same type.')\n",
    "\n",
    "                if isinstance(v, dict):\n",
    "                    children_value = json_meta_type(v)\n",
    "                    \n",
    "                    for _k, _v in children_value.items():\n",
    "                        if (\n",
    "                            _k not in meta_k_value or \n",
    "                            not _v['value_type'] is type(None)\n",
    "                        ):\n",
    "                            meta_k_value[_k] = _v\n",
    "                        if _v['value_type'] is type(None):\n",
    "                            meta_k_value[_k]['optional'] = True\n",
    "                    \n",
    "            if 'value' not in meta_k:\n",
    "                meta_k['value'] = _value_highest_type\n",
    "    return meta\n",
    "\n",
    "test()"
   ]
  },
  {
   "cell_type": "code",
   "execution_count": 6,
   "metadata": {},
   "outputs": [
    {
     "data": {
      "text/plain": [
       "{'tree': {'value_type': dict,\n",
       "  'value': {'leaf1': {'value_type': list, 'counts': 2, 'value': int},\n",
       "   'leaf2': {'value_type': list, 'counts': 2, 'value': int}}},\n",
       " 'cars': {'value_type': list,\n",
       "  'counts': 3,\n",
       "  'value': {'model': {'value_type': str},\n",
       "   'color': {'value_type': str},\n",
       "   'year': {'value_type': int},\n",
       "   'ports': {'value_type': dict, 'value': {'numbers': {'value_type': int}}}}}}"
      ]
     },
     "execution_count": 6,
     "metadata": {},
     "output_type": "execute_result"
    }
   ],
   "source": [
    "test_type = '''\n",
    "    {tree : {leaf1 : 2 * int64, leaf2 : 2 * int64}, \n",
    "     cars : 3 * {model : ?string, color : ?string, year : ?int64, \n",
    "                 ports : ?{numbers : ?int64}}}\n",
    "'''\n",
    "\n",
    "test_data = {\n",
    "    'tree': {\n",
    "        'leaf1': [1, 2],\n",
    "        'leaf2': [2, 4]}, \n",
    "    'cars': [\n",
    "        {'model': 'model1', 'color': 'red', 'year': 2010, 'ports': None},\n",
    "        {'model': 'model2', 'color': 'blue', 'year': None},\n",
    "        {'ports': {'numbers': 4}}\n",
    "    ]\n",
    "}\n",
    "json_meta_type(test_data)"
   ]
  },
  {
   "cell_type": "code",
   "execution_count": 7,
   "metadata": {},
   "outputs": [
    {
     "data": {
      "text/plain": [
       "xnd({'tree': {'leaf1': [1, 2], 'leaf2': [2, 4]},\n",
       "     'cars': [{'model': 'model1', 'color': 'red', 'year': 2010, 'ports': None},\n",
       "      {'model': 'model2', 'color': 'blue', 'year': None, 'ports': {'numbers': None}},\n",
       "      {'model': None, 'color': None, 'year': None, 'ports': {'numbers': 4}}]},\n",
       "    type='{tree : {leaf1 : 2 * int64, leaf2 : 2 * int64}, cars : 3 * {model : ?string, color : ?string, year : ?int64, ports : ?{numbers : ?int64}}}')"
      ]
     },
     "execution_count": 7,
     "metadata": {},
     "output_type": "execute_result"
    }
   ],
   "source": [
    "test_type = '''\n",
    "    {tree : {leaf1 : 2 * int64, leaf2 : 2 * int64}, \n",
    "     cars : 3 * {model : ?string, color : ?string, year : ?int64, \n",
    "                 ports : ?{numbers : ?int64}}}\n",
    "'''\n",
    "\n",
    "test_data = {\n",
    "    'tree': {\n",
    "        'leaf1': [1, 2],\n",
    "        'leaf2': [2, 4]}, \n",
    "    'cars': [\n",
    "        {'model': 'model1', 'color': 'red', 'year': 2010, 'ports': None},\n",
    "        {'model': 'model2', 'color': 'blue', 'year': None, 'ports': {'numbers': None}},\n",
    "        {'model': None, 'color': None, 'year': None, 'ports': {'numbers': 4}}\n",
    "    ]\n",
    "}\n",
    "xnd(test_data, type=test_type)"
   ]
  },
  {
   "cell_type": "markdown",
   "metadata": {},
   "source": [
    "## Loading Data\n",
    "\n",
    "The data for this tutorial could be downloaded at https://chronicdata.cdc.gov/views/hn4x-zwk7/rows.json?accessType=DOWNLOAD\n",
    "\n",
    "We already have this data at `data/data-gov-nutrition.json`"
   ]
  },
  {
   "cell_type": "code",
   "execution_count": 8,
   "metadata": {},
   "outputs": [],
   "source": [
    "with open('data/data-gov-nutrition.json') as f:\n",
    "    data = json.load(f)    "
   ]
  },
  {
   "cell_type": "code",
   "execution_count": 9,
   "metadata": {},
   "outputs": [
    {
     "name": "stdout",
     "output_type": "stream",
     "text": [
      "{'meta': {'view': {'id': 'hn4x-zwk7',\n",
      "'name': 'Nutrition,\n",
      "Physical Activity,\n",
      "and Obesity - Behavioral Risk Factor Surveillance System',\n",
      "'attribution': 'Centers for Disease Control and Prevention (CDC),\n",
      "National Center for Chronic Disease Prevention and Health Promotion,\n",
      "Division of Nutrition,\n",
      "Physical Activity,\n",
      "and Obesity',\n",
      "'attributionLink': 'http://www.cdc.gov/nccdphp/DNPAO/index.html',\n",
      "'averageRating': 0,\n",
      "'category': 'Nutrition,\n",
      "Physical Activity,\n",
      "and Obesity',\n",
      "'createdAt': 1469123618,\n",
      "'desc...\n"
     ]
    }
   ],
   "source": [
    "str_summary = str(data)[:500] + '...'\n",
    "print(str_summary.replace(', ', ',\\n'))"
   ]
  },
  {
   "cell_type": "code",
   "execution_count": 10,
   "metadata": {},
   "outputs": [
    {
     "data": {
      "text/plain": [
       "xnd.xnd"
      ]
     },
     "execution_count": 10,
     "metadata": {},
     "output_type": "execute_result"
    }
   ],
   "source": [
    "xnd"
   ]
  },
  {
   "cell_type": "code",
   "execution_count": 11,
   "metadata": {},
   "outputs": [
    {
     "ename": "NameError",
     "evalue": "name 'normalize_json_meta' is not defined",
     "output_type": "error",
     "traceback": [
      "\u001b[0;31m---------------------------------------------------------------------------\u001b[0m",
      "\u001b[0;31mNameError\u001b[0m                                 Traceback (most recent call last)",
      "\u001b[0;32m<ipython-input-11-f3f52ec48ce4>\u001b[0m in \u001b[0;36m<module>\u001b[0;34m()\u001b[0m\n\u001b[0;32m----> 1\u001b[0;31m \u001b[0mnormalize_json_meta\u001b[0m\u001b[0;34m(\u001b[0m\u001b[0mdata\u001b[0m\u001b[0;34m)\u001b[0m\u001b[0;34m\u001b[0m\u001b[0m\n\u001b[0m",
      "\u001b[0;31mNameError\u001b[0m: name 'normalize_json_meta' is not defined"
     ]
    }
   ],
   "source": [
    "normalize_json_meta(data)"
   ]
  },
  {
   "cell_type": "code",
   "execution_count": null,
   "metadata": {},
   "outputs": [],
   "source": [
    "data_norm == data"
   ]
  },
  {
   "cell_type": "code",
   "execution_count": null,
   "metadata": {},
   "outputs": [],
   "source": [
    "def walk(G, node):\n",
    "    if isinstance(node, dict):\n",
    "        for key, item in node.items():\n",
    "            if isinstance(item, dict):\n",
    "                for j in item.keys():\n",
    "                    G.add_edge(key, j)\n",
    "                walk(G, item)\n",
    "    if isinstance(node, list):\n",
    "        walk(G, node[0])\n",
    "    return\n",
    "            \n",
    "def gen_graph(data):\n",
    "    G = nx.Graph()\n",
    "    \n",
    "    for key in data.keys():\n",
    "        G.add_edge('ROOT', key)\n",
    "\n",
    "    walk(G, data)\n",
    "    \n",
    "    return G"
   ]
  },
  {
   "cell_type": "code",
   "execution_count": null,
   "metadata": {},
   "outputs": [],
   "source": [
    "G = gen_graph(data)"
   ]
  },
  {
   "cell_type": "code",
   "execution_count": null,
   "metadata": {},
   "outputs": [],
   "source": [
    "plt.figure(figsize=(10, 15))\n",
    "nx.draw(\n",
    "    G, with_labels=True, node_color=\"#dfdfdf\", font_size=10,  \n",
    "    pos=nx.spring_layout(G, scale=.5, k=0.5)\n",
    ")"
   ]
  },
  {
   "cell_type": "code",
   "execution_count": null,
   "metadata": {},
   "outputs": [],
   "source": [
    "xnd(data)"
   ]
  }
 ],
 "metadata": {
  "kernelspec": {
   "display_name": "Python 3",
   "language": "python",
   "name": "python3"
  },
  "language_info": {
   "codemirror_mode": {
    "name": "ipython",
    "version": 3
   },
   "file_extension": ".py",
   "mimetype": "text/x-python",
   "name": "python",
   "nbconvert_exporter": "python",
   "pygments_lexer": "ipython3",
   "version": "3.6.0"
  }
 },
 "nbformat": 4,
 "nbformat_minor": 2
}
